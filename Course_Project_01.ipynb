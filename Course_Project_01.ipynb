{
 "cells": [
  {
   "cell_type": "markdown",
   "id": "77bb886b",
   "metadata": {},
   "source": [
    "# Итоговый проект курса \"Библиотеки Python для Data Science\""
   ]
  },
  {
   "cell_type": "markdown",
   "id": "4ea36e5d",
   "metadata": {},
   "source": [
    "### Подключение библиотек и скриптов"
   ]
  },
  {
   "cell_type": "code",
   "execution_count": 433,
   "id": "43b4476e",
   "metadata": {},
   "outputs": [],
   "source": [
    "import numpy as np\n",
    "import pandas as pd\n",
    "import matplotlib.pyplot as plt\n",
    "import seaborn as sns\n",
    "import random\n",
    "import warnings\n",
    "from matplotlib import style\n",
    "\n",
    "from sklearn.model_selection import train_test_split, cross_val_score\n",
    "from sklearn.preprocessing import StandardScaler, RobustScaler\n",
    "from sklearn.ensemble import RandomForestRegressor\n",
    "from sklearn.metrics import r2_score as r2\n",
    "from sklearn.model_selection import KFold, GridSearchCV\n",
    "from datetime import datetime\n",
    "\n",
    "style.use('fivethirtyeight')\n",
    "%matplotlib inline\n",
    "warnings.filterwarnings('ignore')"
   ]
  },
  {
   "cell_type": "markdown",
   "id": "ec281cc9",
   "metadata": {},
   "source": [
    "### Загрузка данных"
   ]
  },
  {
   "cell_type": "code",
   "execution_count": 637,
   "id": "ec794c99",
   "metadata": {},
   "outputs": [],
   "source": [
    "TRAIN_DATASET_PATH = 'train.csv'\n",
    "TEST_DATASET_PATH = 'test.csv'\n",
    "\n",
    "test_df = pd.read_csv(TEST_DATASET_PATH)\n",
    "train_df = pd.read_csv(TRAIN_DATASET_PATH)"
   ]
  },
  {
   "cell_type": "markdown",
   "id": "dabeb9b4",
   "metadata": {},
   "source": [
    "### Описание датасета"
   ]
  },
  {
   "cell_type": "markdown",
   "id": "0a1fb149",
   "metadata": {},
   "source": [
    "* **Id** - идентификационный номер квартиры\n",
    "* **DistrictId** - идентификационный номер района\n",
    "* **Rooms** - количество комнат\n",
    "* **Square** - площадь\n",
    "* **LifeSquare** - жилая площадь\n",
    "* **KitchenSquare** - площадь кухни\n",
    "* **Floor** - этаж\n",
    "* **HouseFloor** - количество этажей в доме\n",
    "* **HouseYear** - год постройки дома\n",
    "* **Ecology_1, Ecology_2, Ecology_3** - экологические показатели местности\n",
    "* **Social_1, Social_2, Social_3** - социальные показатели местности\n",
    "* **Healthcare_1, Helthcare_2** - показатели местности, связанные с охраной здоровья\n",
    "* **Shops_1, Shops_2** - показатели, связанные с наличием магазинов, торговых центров\n",
    "* **Price** - цена квартиры"
   ]
  },
  {
   "cell_type": "code",
   "execution_count": 408,
   "id": "41498552",
   "metadata": {},
   "outputs": [
    {
     "data": {
      "text/html": [
       "<div>\n",
       "<style scoped>\n",
       "    .dataframe tbody tr th:only-of-type {\n",
       "        vertical-align: middle;\n",
       "    }\n",
       "\n",
       "    .dataframe tbody tr th {\n",
       "        vertical-align: top;\n",
       "    }\n",
       "\n",
       "    .dataframe thead th {\n",
       "        text-align: right;\n",
       "    }\n",
       "</style>\n",
       "<table border=\"1\" class=\"dataframe\">\n",
       "  <thead>\n",
       "    <tr style=\"text-align: right;\">\n",
       "      <th></th>\n",
       "      <th>Id</th>\n",
       "      <th>DistrictId</th>\n",
       "      <th>Rooms</th>\n",
       "      <th>Square</th>\n",
       "      <th>LifeSquare</th>\n",
       "      <th>KitchenSquare</th>\n",
       "      <th>Floor</th>\n",
       "      <th>HouseFloor</th>\n",
       "      <th>HouseYear</th>\n",
       "      <th>Ecology_1</th>\n",
       "      <th>Ecology_2</th>\n",
       "      <th>Ecology_3</th>\n",
       "      <th>Social_1</th>\n",
       "      <th>Social_2</th>\n",
       "      <th>Social_3</th>\n",
       "      <th>Healthcare_1</th>\n",
       "      <th>Helthcare_2</th>\n",
       "      <th>Shops_1</th>\n",
       "      <th>Shops_2</th>\n",
       "      <th>Price</th>\n",
       "    </tr>\n",
       "  </thead>\n",
       "  <tbody>\n",
       "    <tr>\n",
       "      <th>0</th>\n",
       "      <td>11809</td>\n",
       "      <td>27</td>\n",
       "      <td>3.0</td>\n",
       "      <td>115.027311</td>\n",
       "      <td>NaN</td>\n",
       "      <td>10.0</td>\n",
       "      <td>4</td>\n",
       "      <td>10.0</td>\n",
       "      <td>2014</td>\n",
       "      <td>0.075424</td>\n",
       "      <td>B</td>\n",
       "      <td>B</td>\n",
       "      <td>11</td>\n",
       "      <td>3097</td>\n",
       "      <td>0</td>\n",
       "      <td>NaN</td>\n",
       "      <td>0</td>\n",
       "      <td>0</td>\n",
       "      <td>B</td>\n",
       "      <td>305018.871089</td>\n",
       "    </tr>\n",
       "    <tr>\n",
       "      <th>1</th>\n",
       "      <td>3013</td>\n",
       "      <td>22</td>\n",
       "      <td>1.0</td>\n",
       "      <td>39.832524</td>\n",
       "      <td>23.169223</td>\n",
       "      <td>8.0</td>\n",
       "      <td>7</td>\n",
       "      <td>8.0</td>\n",
       "      <td>1966</td>\n",
       "      <td>0.118537</td>\n",
       "      <td>B</td>\n",
       "      <td>B</td>\n",
       "      <td>30</td>\n",
       "      <td>6207</td>\n",
       "      <td>1</td>\n",
       "      <td>1183.0</td>\n",
       "      <td>1</td>\n",
       "      <td>0</td>\n",
       "      <td>B</td>\n",
       "      <td>177734.553407</td>\n",
       "    </tr>\n",
       "    <tr>\n",
       "      <th>2</th>\n",
       "      <td>8215</td>\n",
       "      <td>1</td>\n",
       "      <td>3.0</td>\n",
       "      <td>78.342215</td>\n",
       "      <td>47.671972</td>\n",
       "      <td>10.0</td>\n",
       "      <td>2</td>\n",
       "      <td>17.0</td>\n",
       "      <td>1988</td>\n",
       "      <td>0.025609</td>\n",
       "      <td>B</td>\n",
       "      <td>B</td>\n",
       "      <td>33</td>\n",
       "      <td>5261</td>\n",
       "      <td>0</td>\n",
       "      <td>240.0</td>\n",
       "      <td>3</td>\n",
       "      <td>1</td>\n",
       "      <td>B</td>\n",
       "      <td>282078.720850</td>\n",
       "    </tr>\n",
       "    <tr>\n",
       "      <th>3</th>\n",
       "      <td>2352</td>\n",
       "      <td>1</td>\n",
       "      <td>1.0</td>\n",
       "      <td>40.409907</td>\n",
       "      <td>NaN</td>\n",
       "      <td>1.0</td>\n",
       "      <td>10</td>\n",
       "      <td>22.0</td>\n",
       "      <td>1977</td>\n",
       "      <td>0.007122</td>\n",
       "      <td>B</td>\n",
       "      <td>B</td>\n",
       "      <td>1</td>\n",
       "      <td>264</td>\n",
       "      <td>0</td>\n",
       "      <td>NaN</td>\n",
       "      <td>0</td>\n",
       "      <td>1</td>\n",
       "      <td>B</td>\n",
       "      <td>168106.007630</td>\n",
       "    </tr>\n",
       "    <tr>\n",
       "      <th>4</th>\n",
       "      <td>13866</td>\n",
       "      <td>94</td>\n",
       "      <td>2.0</td>\n",
       "      <td>64.285067</td>\n",
       "      <td>38.562517</td>\n",
       "      <td>9.0</td>\n",
       "      <td>16</td>\n",
       "      <td>16.0</td>\n",
       "      <td>1972</td>\n",
       "      <td>0.282798</td>\n",
       "      <td>B</td>\n",
       "      <td>B</td>\n",
       "      <td>33</td>\n",
       "      <td>8667</td>\n",
       "      <td>2</td>\n",
       "      <td>NaN</td>\n",
       "      <td>0</td>\n",
       "      <td>6</td>\n",
       "      <td>B</td>\n",
       "      <td>343995.102962</td>\n",
       "    </tr>\n",
       "  </tbody>\n",
       "</table>\n",
       "</div>"
      ],
      "text/plain": [
       "      Id  DistrictId  Rooms      Square  LifeSquare  KitchenSquare  Floor  \\\n",
       "0  11809          27    3.0  115.027311         NaN           10.0      4   \n",
       "1   3013          22    1.0   39.832524   23.169223            8.0      7   \n",
       "2   8215           1    3.0   78.342215   47.671972           10.0      2   \n",
       "3   2352           1    1.0   40.409907         NaN            1.0     10   \n",
       "4  13866          94    2.0   64.285067   38.562517            9.0     16   \n",
       "\n",
       "   HouseFloor  HouseYear  Ecology_1 Ecology_2 Ecology_3  Social_1  Social_2  \\\n",
       "0        10.0       2014   0.075424         B         B        11      3097   \n",
       "1         8.0       1966   0.118537         B         B        30      6207   \n",
       "2        17.0       1988   0.025609         B         B        33      5261   \n",
       "3        22.0       1977   0.007122         B         B         1       264   \n",
       "4        16.0       1972   0.282798         B         B        33      8667   \n",
       "\n",
       "   Social_3  Healthcare_1  Helthcare_2  Shops_1 Shops_2          Price  \n",
       "0         0           NaN            0        0       B  305018.871089  \n",
       "1         1        1183.0            1        0       B  177734.553407  \n",
       "2         0         240.0            3        1       B  282078.720850  \n",
       "3         0           NaN            0        1       B  168106.007630  \n",
       "4         2           NaN            0        6       B  343995.102962  "
      ]
     },
     "execution_count": 408,
     "metadata": {},
     "output_type": "execute_result"
    }
   ],
   "source": [
    "train_df.head()"
   ]
  },
  {
   "cell_type": "code",
   "execution_count": 396,
   "id": "9016bcc1",
   "metadata": {},
   "outputs": [
    {
     "name": "stdout",
     "output_type": "stream",
     "text": [
      "<class 'pandas.core.frame.DataFrame'>\n",
      "Int64Index: 10000 entries, 0 to 9999\n",
      "Data columns (total 22 columns):\n",
      " #   Column           Non-Null Count  Dtype  \n",
      "---  ------           --------------  -----  \n",
      " 0   Id               10000 non-null  object \n",
      " 1   DistrictId       10000 non-null  object \n",
      " 2   Rooms            10000 non-null  int64  \n",
      " 3   Square           10000 non-null  float64\n",
      " 4   LifeSquare       10000 non-null  float64\n",
      " 5   KitchenSquare    10000 non-null  float64\n",
      " 6   Floor            10000 non-null  int64  \n",
      " 7   HouseFloor       10000 non-null  int64  \n",
      " 8   HouseYear        10000 non-null  int64  \n",
      " 9   Ecology_1        10000 non-null  float64\n",
      " 10  Ecology_2        10000 non-null  int64  \n",
      " 11  Ecology_3        10000 non-null  int64  \n",
      " 12  Social_1         10000 non-null  int64  \n",
      " 13  Social_2         10000 non-null  int64  \n",
      " 14  Social_3         10000 non-null  int64  \n",
      " 15  Healthcare_1     10000 non-null  float64\n",
      " 16  Helthcare_2      10000 non-null  int64  \n",
      " 17  Shops_1          10000 non-null  int64  \n",
      " 18  Shops_2          10000 non-null  int64  \n",
      " 19  Price            10000 non-null  float64\n",
      " 20  DistrictSize     10000 non-null  int64  \n",
      " 21  IsDistrictLarge  10000 non-null  int32  \n",
      "dtypes: float64(6), int32(1), int64(13), object(2)\n",
      "memory usage: 1.7+ MB\n"
     ]
    }
   ],
   "source": [
    "train_df.info()"
   ]
  },
  {
   "cell_type": "code",
   "execution_count": 5,
   "id": "4fcd92d1",
   "metadata": {},
   "outputs": [
    {
     "data": {
      "text/html": [
       "<div>\n",
       "<style scoped>\n",
       "    .dataframe tbody tr th:only-of-type {\n",
       "        vertical-align: middle;\n",
       "    }\n",
       "\n",
       "    .dataframe tbody tr th {\n",
       "        vertical-align: top;\n",
       "    }\n",
       "\n",
       "    .dataframe thead th {\n",
       "        text-align: right;\n",
       "    }\n",
       "</style>\n",
       "<table border=\"1\" class=\"dataframe\">\n",
       "  <thead>\n",
       "    <tr style=\"text-align: right;\">\n",
       "      <th></th>\n",
       "      <th>Id</th>\n",
       "      <th>DistrictId</th>\n",
       "      <th>Rooms</th>\n",
       "      <th>Square</th>\n",
       "      <th>LifeSquare</th>\n",
       "      <th>KitchenSquare</th>\n",
       "      <th>Floor</th>\n",
       "      <th>HouseFloor</th>\n",
       "      <th>HouseYear</th>\n",
       "      <th>Ecology_1</th>\n",
       "      <th>Ecology_2</th>\n",
       "      <th>Ecology_3</th>\n",
       "      <th>Social_1</th>\n",
       "      <th>Social_2</th>\n",
       "      <th>Social_3</th>\n",
       "      <th>Healthcare_1</th>\n",
       "      <th>Helthcare_2</th>\n",
       "      <th>Shops_1</th>\n",
       "      <th>Shops_2</th>\n",
       "    </tr>\n",
       "  </thead>\n",
       "  <tbody>\n",
       "    <tr>\n",
       "      <th>0</th>\n",
       "      <td>4567</td>\n",
       "      <td>44</td>\n",
       "      <td>1.0</td>\n",
       "      <td>36.847630</td>\n",
       "      <td>19.094182</td>\n",
       "      <td>5.0</td>\n",
       "      <td>5</td>\n",
       "      <td>9.0</td>\n",
       "      <td>1970</td>\n",
       "      <td>0.036122</td>\n",
       "      <td>B</td>\n",
       "      <td>B</td>\n",
       "      <td>24</td>\n",
       "      <td>4378</td>\n",
       "      <td>0</td>\n",
       "      <td>1036.0</td>\n",
       "      <td>1</td>\n",
       "      <td>1</td>\n",
       "      <td>B</td>\n",
       "    </tr>\n",
       "    <tr>\n",
       "      <th>1</th>\n",
       "      <td>5925</td>\n",
       "      <td>62</td>\n",
       "      <td>1.0</td>\n",
       "      <td>42.493907</td>\n",
       "      <td>42.568133</td>\n",
       "      <td>10.0</td>\n",
       "      <td>7</td>\n",
       "      <td>17.0</td>\n",
       "      <td>2017</td>\n",
       "      <td>0.072158</td>\n",
       "      <td>B</td>\n",
       "      <td>B</td>\n",
       "      <td>2</td>\n",
       "      <td>629</td>\n",
       "      <td>1</td>\n",
       "      <td>NaN</td>\n",
       "      <td>0</td>\n",
       "      <td>0</td>\n",
       "      <td>A</td>\n",
       "    </tr>\n",
       "    <tr>\n",
       "      <th>2</th>\n",
       "      <td>960</td>\n",
       "      <td>27</td>\n",
       "      <td>2.0</td>\n",
       "      <td>59.463678</td>\n",
       "      <td>NaN</td>\n",
       "      <td>9.0</td>\n",
       "      <td>19</td>\n",
       "      <td>19.0</td>\n",
       "      <td>1977</td>\n",
       "      <td>0.211401</td>\n",
       "      <td>B</td>\n",
       "      <td>B</td>\n",
       "      <td>9</td>\n",
       "      <td>1892</td>\n",
       "      <td>0</td>\n",
       "      <td>NaN</td>\n",
       "      <td>0</td>\n",
       "      <td>1</td>\n",
       "      <td>B</td>\n",
       "    </tr>\n",
       "    <tr>\n",
       "      <th>3</th>\n",
       "      <td>3848</td>\n",
       "      <td>23</td>\n",
       "      <td>3.0</td>\n",
       "      <td>49.646030</td>\n",
       "      <td>33.893825</td>\n",
       "      <td>6.0</td>\n",
       "      <td>2</td>\n",
       "      <td>2.0</td>\n",
       "      <td>1965</td>\n",
       "      <td>0.014073</td>\n",
       "      <td>B</td>\n",
       "      <td>B</td>\n",
       "      <td>2</td>\n",
       "      <td>475</td>\n",
       "      <td>0</td>\n",
       "      <td>NaN</td>\n",
       "      <td>0</td>\n",
       "      <td>0</td>\n",
       "      <td>B</td>\n",
       "    </tr>\n",
       "    <tr>\n",
       "      <th>4</th>\n",
       "      <td>746</td>\n",
       "      <td>74</td>\n",
       "      <td>1.0</td>\n",
       "      <td>53.837056</td>\n",
       "      <td>NaN</td>\n",
       "      <td>1.0</td>\n",
       "      <td>8</td>\n",
       "      <td>17.0</td>\n",
       "      <td>1977</td>\n",
       "      <td>0.309479</td>\n",
       "      <td>B</td>\n",
       "      <td>B</td>\n",
       "      <td>35</td>\n",
       "      <td>7715</td>\n",
       "      <td>4</td>\n",
       "      <td>990.0</td>\n",
       "      <td>0</td>\n",
       "      <td>6</td>\n",
       "      <td>B</td>\n",
       "    </tr>\n",
       "  </tbody>\n",
       "</table>\n",
       "</div>"
      ],
      "text/plain": [
       "     Id  DistrictId  Rooms     Square  LifeSquare  KitchenSquare  Floor  \\\n",
       "0  4567          44    1.0  36.847630   19.094182            5.0      5   \n",
       "1  5925          62    1.0  42.493907   42.568133           10.0      7   \n",
       "2   960          27    2.0  59.463678         NaN            9.0     19   \n",
       "3  3848          23    3.0  49.646030   33.893825            6.0      2   \n",
       "4   746          74    1.0  53.837056         NaN            1.0      8   \n",
       "\n",
       "   HouseFloor  HouseYear  Ecology_1 Ecology_2 Ecology_3  Social_1  Social_2  \\\n",
       "0         9.0       1970   0.036122         B         B        24      4378   \n",
       "1        17.0       2017   0.072158         B         B         2       629   \n",
       "2        19.0       1977   0.211401         B         B         9      1892   \n",
       "3         2.0       1965   0.014073         B         B         2       475   \n",
       "4        17.0       1977   0.309479         B         B        35      7715   \n",
       "\n",
       "   Social_3  Healthcare_1  Helthcare_2  Shops_1 Shops_2  \n",
       "0         0        1036.0            1        1       B  \n",
       "1         1           NaN            0        0       A  \n",
       "2         0           NaN            0        1       B  \n",
       "3         0           NaN            0        0       B  \n",
       "4         4         990.0            0        6       B  "
      ]
     },
     "execution_count": 5,
     "metadata": {},
     "output_type": "execute_result"
    }
   ],
   "source": [
    "test_df.head()"
   ]
  },
  {
   "cell_type": "code",
   "execution_count": 6,
   "id": "077c3cd5",
   "metadata": {},
   "outputs": [
    {
     "name": "stdout",
     "output_type": "stream",
     "text": [
      "<class 'pandas.core.frame.DataFrame'>\n",
      "RangeIndex: 5000 entries, 0 to 4999\n",
      "Data columns (total 19 columns):\n",
      " #   Column         Non-Null Count  Dtype  \n",
      "---  ------         --------------  -----  \n",
      " 0   Id             5000 non-null   int64  \n",
      " 1   DistrictId     5000 non-null   int64  \n",
      " 2   Rooms          5000 non-null   float64\n",
      " 3   Square         5000 non-null   float64\n",
      " 4   LifeSquare     3959 non-null   float64\n",
      " 5   KitchenSquare  5000 non-null   float64\n",
      " 6   Floor          5000 non-null   int64  \n",
      " 7   HouseFloor     5000 non-null   float64\n",
      " 8   HouseYear      5000 non-null   int64  \n",
      " 9   Ecology_1      5000 non-null   float64\n",
      " 10  Ecology_2      5000 non-null   object \n",
      " 11  Ecology_3      5000 non-null   object \n",
      " 12  Social_1       5000 non-null   int64  \n",
      " 13  Social_2       5000 non-null   int64  \n",
      " 14  Social_3       5000 non-null   int64  \n",
      " 15  Healthcare_1   2623 non-null   float64\n",
      " 16  Helthcare_2    5000 non-null   int64  \n",
      " 17  Shops_1        5000 non-null   int64  \n",
      " 18  Shops_2        5000 non-null   object \n",
      "dtypes: float64(7), int64(9), object(3)\n",
      "memory usage: 742.3+ KB\n"
     ]
    }
   ],
   "source": [
    "test_df.info()"
   ]
  },
  {
   "cell_type": "code",
   "execution_count": 7,
   "id": "4ac795cc",
   "metadata": {},
   "outputs": [
    {
     "name": "stdout",
     "output_type": "stream",
     "text": [
      "Строк в трейне: 10000, Столбцов в трейне: 20\n",
      "Строк в тесте: 5000, Столбцов в тесте: 19\n"
     ]
    }
   ],
   "source": [
    "print(f'Строк в трейне: {train_df.shape[0]}, Столбцов в трейне: {train_df.shape[1]}')\n",
    "print(f'Строк в тесте: {test_df.shape[0]}, Столбцов в тесте: {test_df.shape[1]}')"
   ]
  },
  {
   "cell_type": "markdown",
   "id": "4c5ef50e",
   "metadata": {},
   "source": [
    "### Приведение типов"
   ]
  },
  {
   "cell_type": "code",
   "execution_count": 435,
   "id": "a40740fb",
   "metadata": {},
   "outputs": [],
   "source": [
    "train_df['Id'] = train_df['Id'].astype(str)\n",
    "train_df['Rooms'] = train_df['Rooms'].astype('int64')\n",
    "train_df['HouseFloor'] = train_df['HouseFloor'].astype('int64')\n",
    "\n",
    "test_df['Id'] = test_df['Id'].astype(str)\n",
    "test_df['Rooms'] = test_df['Rooms'].astype('int64')\n",
    "test_df['HouseFloor'] = test_df['HouseFloor'].astype('int64')"
   ]
  },
  {
   "cell_type": "markdown",
   "id": "c2413f99",
   "metadata": {},
   "source": [
    "### EDA"
   ]
  },
  {
   "cell_type": "code",
   "execution_count": 272,
   "id": "b10a2129",
   "metadata": {},
   "outputs": [
    {
     "data": {
      "image/png": "[encoded data removed]",
      "text/plain": [
       "<Figure size 720x576 with 12 Axes>"
      ]
     },
     "metadata": {
      "needs_background": "light"
     },
     "output_type": "display_data"
    }
   ],
   "source": [
    "numerical = train_df.select_dtypes(include ='int64')\n",
    "\n",
    "pd.DataFrame(numerical).hist(figsize = (10, 8), bins = 20, grid = False)\n",
    "sns.despine(left = True, bottom = True)"
   ]
  },
  {
   "cell_type": "code",
   "execution_count": 273,
   "id": "e2bd1260",
   "metadata": {},
   "outputs": [
    {
     "data": {
      "image/png": "[encoded data removed]",
      "text/plain": [
       "<Figure size 720x576 with 6 Axes>"
      ]
     },
     "metadata": {
      "needs_background": "light"
     },
     "output_type": "display_data"
    }
   ],
   "source": [
    "numerical = train_df.select_dtypes(include = 'float64')\n",
    "\n",
    "pd.DataFrame(numerical).hist(figsize = (10, 8), bins = 20, grid = False)\n",
    "sns.despine(left = True, bottom = True)"
   ]
  },
  {
   "cell_type": "code",
   "execution_count": 198,
   "id": "5ae0e083",
   "metadata": {},
   "outputs": [
    {
     "data": {
      "text/html": [
       "<div>\n",
       "<style scoped>\n",
       "    .dataframe tbody tr th:only-of-type {\n",
       "        vertical-align: middle;\n",
       "    }\n",
       "\n",
       "    .dataframe tbody tr th {\n",
       "        vertical-align: top;\n",
       "    }\n",
       "\n",
       "    .dataframe thead th {\n",
       "        text-align: right;\n",
       "    }\n",
       "</style>\n",
       "<table border=\"1\" class=\"dataframe\">\n",
       "  <thead>\n",
       "    <tr style=\"text-align: right;\">\n",
       "      <th></th>\n",
       "      <th>Id</th>\n",
       "      <th>DistrictId</th>\n",
       "      <th>Rooms</th>\n",
       "      <th>Square</th>\n",
       "      <th>LifeSquare</th>\n",
       "      <th>KitchenSquare</th>\n",
       "      <th>Floor</th>\n",
       "      <th>HouseFloor</th>\n",
       "      <th>HouseYear</th>\n",
       "      <th>Ecology_1</th>\n",
       "      <th>Social_1</th>\n",
       "      <th>Social_2</th>\n",
       "      <th>Social_3</th>\n",
       "      <th>Healthcare_1</th>\n",
       "      <th>Helthcare_2</th>\n",
       "      <th>Shops_1</th>\n",
       "      <th>Price</th>\n",
       "    </tr>\n",
       "  </thead>\n",
       "  <tbody>\n",
       "    <tr>\n",
       "      <th>count</th>\n",
       "      <td>10000.00000</td>\n",
       "      <td>10000.000000</td>\n",
       "      <td>10000.000000</td>\n",
       "      <td>10000.000000</td>\n",
       "      <td>7887.000000</td>\n",
       "      <td>10000.000000</td>\n",
       "      <td>10000.000000</td>\n",
       "      <td>10000.000000</td>\n",
       "      <td>1.000000e+04</td>\n",
       "      <td>10000.000000</td>\n",
       "      <td>10000.000000</td>\n",
       "      <td>10000.000000</td>\n",
       "      <td>10000.000000</td>\n",
       "      <td>5202.000000</td>\n",
       "      <td>10000.000000</td>\n",
       "      <td>10000.000000</td>\n",
       "      <td>10000.000000</td>\n",
       "    </tr>\n",
       "    <tr>\n",
       "      <th>mean</th>\n",
       "      <td>8383.40770</td>\n",
       "      <td>50.400800</td>\n",
       "      <td>1.890500</td>\n",
       "      <td>56.315775</td>\n",
       "      <td>37.199645</td>\n",
       "      <td>6.273300</td>\n",
       "      <td>8.526700</td>\n",
       "      <td>12.609400</td>\n",
       "      <td>3.990166e+03</td>\n",
       "      <td>0.118858</td>\n",
       "      <td>24.687000</td>\n",
       "      <td>5352.157400</td>\n",
       "      <td>8.039200</td>\n",
       "      <td>1142.904460</td>\n",
       "      <td>1.319500</td>\n",
       "      <td>4.231300</td>\n",
       "      <td>214138.857399</td>\n",
       "    </tr>\n",
       "    <tr>\n",
       "      <th>std</th>\n",
       "      <td>4859.01902</td>\n",
       "      <td>43.587592</td>\n",
       "      <td>0.839512</td>\n",
       "      <td>21.058732</td>\n",
       "      <td>86.241209</td>\n",
       "      <td>28.560917</td>\n",
       "      <td>5.241148</td>\n",
       "      <td>6.775974</td>\n",
       "      <td>2.005003e+05</td>\n",
       "      <td>0.119025</td>\n",
       "      <td>17.532614</td>\n",
       "      <td>4006.799803</td>\n",
       "      <td>23.831875</td>\n",
       "      <td>1021.517264</td>\n",
       "      <td>1.493601</td>\n",
       "      <td>4.806341</td>\n",
       "      <td>92872.293865</td>\n",
       "    </tr>\n",
       "    <tr>\n",
       "      <th>min</th>\n",
       "      <td>0.00000</td>\n",
       "      <td>0.000000</td>\n",
       "      <td>0.000000</td>\n",
       "      <td>1.136859</td>\n",
       "      <td>0.370619</td>\n",
       "      <td>0.000000</td>\n",
       "      <td>1.000000</td>\n",
       "      <td>0.000000</td>\n",
       "      <td>1.910000e+03</td>\n",
       "      <td>0.000000</td>\n",
       "      <td>0.000000</td>\n",
       "      <td>168.000000</td>\n",
       "      <td>0.000000</td>\n",
       "      <td>0.000000</td>\n",
       "      <td>0.000000</td>\n",
       "      <td>0.000000</td>\n",
       "      <td>59174.778028</td>\n",
       "    </tr>\n",
       "    <tr>\n",
       "      <th>25%</th>\n",
       "      <td>4169.50000</td>\n",
       "      <td>20.000000</td>\n",
       "      <td>1.000000</td>\n",
       "      <td>41.774881</td>\n",
       "      <td>22.769832</td>\n",
       "      <td>1.000000</td>\n",
       "      <td>4.000000</td>\n",
       "      <td>9.000000</td>\n",
       "      <td>1.974000e+03</td>\n",
       "      <td>0.017647</td>\n",
       "      <td>6.000000</td>\n",
       "      <td>1564.000000</td>\n",
       "      <td>0.000000</td>\n",
       "      <td>350.000000</td>\n",
       "      <td>0.000000</td>\n",
       "      <td>1.000000</td>\n",
       "      <td>153872.633942</td>\n",
       "    </tr>\n",
       "    <tr>\n",
       "      <th>50%</th>\n",
       "      <td>8394.50000</td>\n",
       "      <td>36.000000</td>\n",
       "      <td>2.000000</td>\n",
       "      <td>52.513310</td>\n",
       "      <td>32.781260</td>\n",
       "      <td>6.000000</td>\n",
       "      <td>7.000000</td>\n",
       "      <td>13.000000</td>\n",
       "      <td>1.977000e+03</td>\n",
       "      <td>0.075424</td>\n",
       "      <td>25.000000</td>\n",
       "      <td>5285.000000</td>\n",
       "      <td>2.000000</td>\n",
       "      <td>900.000000</td>\n",
       "      <td>1.000000</td>\n",
       "      <td>3.000000</td>\n",
       "      <td>192269.644879</td>\n",
       "    </tr>\n",
       "    <tr>\n",
       "      <th>75%</th>\n",
       "      <td>12592.50000</td>\n",
       "      <td>75.000000</td>\n",
       "      <td>2.000000</td>\n",
       "      <td>65.900625</td>\n",
       "      <td>45.128803</td>\n",
       "      <td>9.000000</td>\n",
       "      <td>12.000000</td>\n",
       "      <td>17.000000</td>\n",
       "      <td>2.001000e+03</td>\n",
       "      <td>0.195781</td>\n",
       "      <td>36.000000</td>\n",
       "      <td>7227.000000</td>\n",
       "      <td>5.000000</td>\n",
       "      <td>1548.000000</td>\n",
       "      <td>2.000000</td>\n",
       "      <td>6.000000</td>\n",
       "      <td>249135.462171</td>\n",
       "    </tr>\n",
       "    <tr>\n",
       "      <th>max</th>\n",
       "      <td>16798.00000</td>\n",
       "      <td>209.000000</td>\n",
       "      <td>19.000000</td>\n",
       "      <td>641.065193</td>\n",
       "      <td>7480.592129</td>\n",
       "      <td>2014.000000</td>\n",
       "      <td>42.000000</td>\n",
       "      <td>117.000000</td>\n",
       "      <td>2.005201e+07</td>\n",
       "      <td>0.521867</td>\n",
       "      <td>74.000000</td>\n",
       "      <td>19083.000000</td>\n",
       "      <td>141.000000</td>\n",
       "      <td>4849.000000</td>\n",
       "      <td>6.000000</td>\n",
       "      <td>23.000000</td>\n",
       "      <td>633233.466570</td>\n",
       "    </tr>\n",
       "  </tbody>\n",
       "</table>\n",
       "</div>"
      ],
      "text/plain": [
       "                Id    DistrictId         Rooms        Square   LifeSquare  \\\n",
       "count  10000.00000  10000.000000  10000.000000  10000.000000  7887.000000   \n",
       "mean    8383.40770     50.400800      1.890500     56.315775    37.199645   \n",
       "std     4859.01902     43.587592      0.839512     21.058732    86.241209   \n",
       "min        0.00000      0.000000      0.000000      1.136859     0.370619   \n",
       "25%     4169.50000     20.000000      1.000000     41.774881    22.769832   \n",
       "50%     8394.50000     36.000000      2.000000     52.513310    32.781260   \n",
       "75%    12592.50000     75.000000      2.000000     65.900625    45.128803   \n",
       "max    16798.00000    209.000000     19.000000    641.065193  7480.592129   \n",
       "\n",
       "       KitchenSquare         Floor    HouseFloor     HouseYear     Ecology_1  \\\n",
       "count   10000.000000  10000.000000  10000.000000  1.000000e+04  10000.000000   \n",
       "mean        6.273300      8.526700     12.609400  3.990166e+03      0.118858   \n",
       "std        28.560917      5.241148      6.775974  2.005003e+05      0.119025   \n",
       "min         0.000000      1.000000      0.000000  1.910000e+03      0.000000   \n",
       "25%         1.000000      4.000000      9.000000  1.974000e+03      0.017647   \n",
       "50%         6.000000      7.000000     13.000000  1.977000e+03      0.075424   \n",
       "75%         9.000000     12.000000     17.000000  2.001000e+03      0.195781   \n",
       "max      2014.000000     42.000000    117.000000  2.005201e+07      0.521867   \n",
       "\n",
       "           Social_1      Social_2      Social_3  Healthcare_1   Helthcare_2  \\\n",
       "count  10000.000000  10000.000000  10000.000000   5202.000000  10000.000000   \n",
       "mean      24.687000   5352.157400      8.039200   1142.904460      1.319500   \n",
       "std       17.532614   4006.799803     23.831875   1021.517264      1.493601   \n",
       "min        0.000000    168.000000      0.000000      0.000000      0.000000   \n",
       "25%        6.000000   1564.000000      0.000000    350.000000      0.000000   \n",
       "50%       25.000000   5285.000000      2.000000    900.000000      1.000000   \n",
       "75%       36.000000   7227.000000      5.000000   1548.000000      2.000000   \n",
       "max       74.000000  19083.000000    141.000000   4849.000000      6.000000   \n",
       "\n",
       "            Shops_1          Price  \n",
       "count  10000.000000   10000.000000  \n",
       "mean       4.231300  214138.857399  \n",
       "std        4.806341   92872.293865  \n",
       "min        0.000000   59174.778028  \n",
       "25%        1.000000  153872.633942  \n",
       "50%        3.000000  192269.644879  \n",
       "75%        6.000000  249135.462171  \n",
       "max       23.000000  633233.466570  "
      ]
     },
     "execution_count": 198,
     "metadata": {},
     "output_type": "execute_result"
    }
   ],
   "source": [
    "train_df.describe()"
   ]
  },
  {
   "cell_type": "code",
   "execution_count": 197,
   "id": "4d6219c4",
   "metadata": {},
   "outputs": [
    {
     "data": {
      "text/html": [
       "<div>\n",
       "<style scoped>\n",
       "    .dataframe tbody tr th:only-of-type {\n",
       "        vertical-align: middle;\n",
       "    }\n",
       "\n",
       "    .dataframe tbody tr th {\n",
       "        vertical-align: top;\n",
       "    }\n",
       "\n",
       "    .dataframe thead th {\n",
       "        text-align: right;\n",
       "    }\n",
       "</style>\n",
       "<table border=\"1\" class=\"dataframe\">\n",
       "  <thead>\n",
       "    <tr style=\"text-align: right;\">\n",
       "      <th></th>\n",
       "      <th>Id</th>\n",
       "      <th>DistrictId</th>\n",
       "      <th>Rooms</th>\n",
       "      <th>Square</th>\n",
       "      <th>LifeSquare</th>\n",
       "      <th>KitchenSquare</th>\n",
       "      <th>Floor</th>\n",
       "      <th>HouseFloor</th>\n",
       "      <th>HouseYear</th>\n",
       "      <th>Ecology_1</th>\n",
       "      <th>Social_1</th>\n",
       "      <th>Social_2</th>\n",
       "      <th>Social_3</th>\n",
       "      <th>Healthcare_1</th>\n",
       "      <th>Helthcare_2</th>\n",
       "      <th>Shops_1</th>\n",
       "    </tr>\n",
       "  </thead>\n",
       "  <tbody>\n",
       "    <tr>\n",
       "      <th>count</th>\n",
       "      <td>5000.000000</td>\n",
       "      <td>5000.000000</td>\n",
       "      <td>5000.000000</td>\n",
       "      <td>5000.000000</td>\n",
       "      <td>3959.000000</td>\n",
       "      <td>5000.000000</td>\n",
       "      <td>5000.000000</td>\n",
       "      <td>5000.000000</td>\n",
       "      <td>5000.000000</td>\n",
       "      <td>5000.000000</td>\n",
       "      <td>5000.000000</td>\n",
       "      <td>5000.000000</td>\n",
       "      <td>5000.000000</td>\n",
       "      <td>2623.000000</td>\n",
       "      <td>5000.00000</td>\n",
       "      <td>5000.000000</td>\n",
       "    </tr>\n",
       "    <tr>\n",
       "      <th>mean</th>\n",
       "      <td>8412.595400</td>\n",
       "      <td>51.279200</td>\n",
       "      <td>1.910000</td>\n",
       "      <td>56.449500</td>\n",
       "      <td>36.158810</td>\n",
       "      <td>5.976800</td>\n",
       "      <td>8.632000</td>\n",
       "      <td>12.601000</td>\n",
       "      <td>1984.392600</td>\n",
       "      <td>0.119874</td>\n",
       "      <td>24.933800</td>\n",
       "      <td>5406.900000</td>\n",
       "      <td>8.262600</td>\n",
       "      <td>1146.657263</td>\n",
       "      <td>1.31940</td>\n",
       "      <td>4.242800</td>\n",
       "    </tr>\n",
       "    <tr>\n",
       "      <th>std</th>\n",
       "      <td>4832.674037</td>\n",
       "      <td>44.179466</td>\n",
       "      <td>0.838594</td>\n",
       "      <td>19.092787</td>\n",
       "      <td>17.825287</td>\n",
       "      <td>9.950018</td>\n",
       "      <td>5.483228</td>\n",
       "      <td>6.789213</td>\n",
       "      <td>18.573149</td>\n",
       "      <td>0.120070</td>\n",
       "      <td>17.532202</td>\n",
       "      <td>4026.614773</td>\n",
       "      <td>23.863762</td>\n",
       "      <td>1044.744231</td>\n",
       "      <td>1.47994</td>\n",
       "      <td>4.777365</td>\n",
       "    </tr>\n",
       "    <tr>\n",
       "      <th>min</th>\n",
       "      <td>1.000000</td>\n",
       "      <td>0.000000</td>\n",
       "      <td>0.000000</td>\n",
       "      <td>1.378543</td>\n",
       "      <td>0.333490</td>\n",
       "      <td>0.000000</td>\n",
       "      <td>1.000000</td>\n",
       "      <td>0.000000</td>\n",
       "      <td>1908.000000</td>\n",
       "      <td>0.000000</td>\n",
       "      <td>0.000000</td>\n",
       "      <td>168.000000</td>\n",
       "      <td>0.000000</td>\n",
       "      <td>0.000000</td>\n",
       "      <td>0.00000</td>\n",
       "      <td>0.000000</td>\n",
       "    </tr>\n",
       "    <tr>\n",
       "      <th>25%</th>\n",
       "      <td>4221.750000</td>\n",
       "      <td>21.000000</td>\n",
       "      <td>1.000000</td>\n",
       "      <td>41.906231</td>\n",
       "      <td>23.092026</td>\n",
       "      <td>1.000000</td>\n",
       "      <td>4.000000</td>\n",
       "      <td>9.000000</td>\n",
       "      <td>1973.000000</td>\n",
       "      <td>0.019509</td>\n",
       "      <td>6.000000</td>\n",
       "      <td>1564.000000</td>\n",
       "      <td>0.000000</td>\n",
       "      <td>325.000000</td>\n",
       "      <td>0.00000</td>\n",
       "      <td>1.000000</td>\n",
       "    </tr>\n",
       "    <tr>\n",
       "      <th>50%</th>\n",
       "      <td>8320.500000</td>\n",
       "      <td>37.000000</td>\n",
       "      <td>2.000000</td>\n",
       "      <td>52.921340</td>\n",
       "      <td>32.925087</td>\n",
       "      <td>6.000000</td>\n",
       "      <td>7.000000</td>\n",
       "      <td>12.000000</td>\n",
       "      <td>1977.000000</td>\n",
       "      <td>0.072158</td>\n",
       "      <td>25.000000</td>\n",
       "      <td>5285.000000</td>\n",
       "      <td>2.000000</td>\n",
       "      <td>900.000000</td>\n",
       "      <td>1.00000</td>\n",
       "      <td>3.000000</td>\n",
       "    </tr>\n",
       "    <tr>\n",
       "      <th>75%</th>\n",
       "      <td>12598.250000</td>\n",
       "      <td>77.000000</td>\n",
       "      <td>2.000000</td>\n",
       "      <td>66.285129</td>\n",
       "      <td>45.174091</td>\n",
       "      <td>9.000000</td>\n",
       "      <td>12.000000</td>\n",
       "      <td>17.000000</td>\n",
       "      <td>2000.000000</td>\n",
       "      <td>0.195781</td>\n",
       "      <td>36.000000</td>\n",
       "      <td>7287.000000</td>\n",
       "      <td>5.000000</td>\n",
       "      <td>1548.000000</td>\n",
       "      <td>2.00000</td>\n",
       "      <td>6.000000</td>\n",
       "    </tr>\n",
       "    <tr>\n",
       "      <th>max</th>\n",
       "      <td>16795.000000</td>\n",
       "      <td>212.000000</td>\n",
       "      <td>17.000000</td>\n",
       "      <td>223.453689</td>\n",
       "      <td>303.071094</td>\n",
       "      <td>620.000000</td>\n",
       "      <td>78.000000</td>\n",
       "      <td>99.000000</td>\n",
       "      <td>2020.000000</td>\n",
       "      <td>0.521867</td>\n",
       "      <td>74.000000</td>\n",
       "      <td>19083.000000</td>\n",
       "      <td>141.000000</td>\n",
       "      <td>4849.000000</td>\n",
       "      <td>6.00000</td>\n",
       "      <td>23.000000</td>\n",
       "    </tr>\n",
       "  </tbody>\n",
       "</table>\n",
       "</div>"
      ],
      "text/plain": [
       "                 Id   DistrictId        Rooms       Square   LifeSquare  \\\n",
       "count   5000.000000  5000.000000  5000.000000  5000.000000  3959.000000   \n",
       "mean    8412.595400    51.279200     1.910000    56.449500    36.158810   \n",
       "std     4832.674037    44.179466     0.838594    19.092787    17.825287   \n",
       "min        1.000000     0.000000     0.000000     1.378543     0.333490   \n",
       "25%     4221.750000    21.000000     1.000000    41.906231    23.092026   \n",
       "50%     8320.500000    37.000000     2.000000    52.921340    32.925087   \n",
       "75%    12598.250000    77.000000     2.000000    66.285129    45.174091   \n",
       "max    16795.000000   212.000000    17.000000   223.453689   303.071094   \n",
       "\n",
       "       KitchenSquare        Floor   HouseFloor    HouseYear    Ecology_1  \\\n",
       "count    5000.000000  5000.000000  5000.000000  5000.000000  5000.000000   \n",
       "mean        5.976800     8.632000    12.601000  1984.392600     0.119874   \n",
       "std         9.950018     5.483228     6.789213    18.573149     0.120070   \n",
       "min         0.000000     1.000000     0.000000  1908.000000     0.000000   \n",
       "25%         1.000000     4.000000     9.000000  1973.000000     0.019509   \n",
       "50%         6.000000     7.000000    12.000000  1977.000000     0.072158   \n",
       "75%         9.000000    12.000000    17.000000  2000.000000     0.195781   \n",
       "max       620.000000    78.000000    99.000000  2020.000000     0.521867   \n",
       "\n",
       "          Social_1      Social_2     Social_3  Healthcare_1  Helthcare_2  \\\n",
       "count  5000.000000   5000.000000  5000.000000   2623.000000   5000.00000   \n",
       "mean     24.933800   5406.900000     8.262600   1146.657263      1.31940   \n",
       "std      17.532202   4026.614773    23.863762   1044.744231      1.47994   \n",
       "min       0.000000    168.000000     0.000000      0.000000      0.00000   \n",
       "25%       6.000000   1564.000000     0.000000    325.000000      0.00000   \n",
       "50%      25.000000   5285.000000     2.000000    900.000000      1.00000   \n",
       "75%      36.000000   7287.000000     5.000000   1548.000000      2.00000   \n",
       "max      74.000000  19083.000000   141.000000   4849.000000      6.00000   \n",
       "\n",
       "           Shops_1  \n",
       "count  5000.000000  \n",
       "mean      4.242800  \n",
       "std       4.777365  \n",
       "min       0.000000  \n",
       "25%       1.000000  \n",
       "50%       3.000000  \n",
       "75%       6.000000  \n",
       "max      23.000000  "
      ]
     },
     "execution_count": 197,
     "metadata": {},
     "output_type": "execute_result"
    }
   ],
   "source": [
    "test_df.describe()"
   ]
  },
  {
   "cell_type": "code",
   "execution_count": 274,
   "id": "77750995",
   "metadata": {},
   "outputs": [
    {
     "data": {
      "image/png": "[encoded data removed]",
      "text/plain": [
       "<Figure size 720x720 with 2 Axes>"
      ]
     },
     "metadata": {
      "needs_background": "light"
     },
     "output_type": "display_data"
    }
   ],
   "source": [
    "# Взаимосвязь признаков\n",
    "correlation = pd.DataFrame(train_df.select_dtypes(include = ['int64', 'float64'])).corr()\n",
    "plt.figure(figsize = (10, 10))\n",
    "mask = np.zeros_like(correlation, dtype = np.bool)\n",
    "mask[np.triu_indices_from(mask)] = True\n",
    "sns.heatmap(correlation, mask = mask, annot = True, linewidths = .5, annot_kws = {\"size\":8}, cmap='GnBu')\n",
    "plt.show()"
   ]
  },
  {
   "cell_type": "code",
   "execution_count": 275,
   "id": "2899ce70",
   "metadata": {},
   "outputs": [
    {
     "data": {
      "image/png": "[encoded data removed]",
      "text/plain": [
       "<Figure size 720x360 with 1 Axes>"
      ]
     },
     "metadata": {
      "needs_background": "light"
     },
     "output_type": "display_data"
    }
   ],
   "source": [
    "# Влияние признаков на цену.\n",
    "correlation = train_df.corrwith(train_df['Price']).sort_values()\n",
    "correlation.drop('Price', inplace=True)\n",
    "\n",
    "plt.figure(figsize = (10, 5))\n",
    "plt.bar(correlation.index, correlation)\n",
    "plt.xticks(rotation='90')\n",
    "plt.xlabel('Признаки')\n",
    "plt.ylabel('Корреляция')\n",
    "plt.show()"
   ]
  },
  {
   "cell_type": "code",
   "execution_count": 353,
   "id": "c5d10108",
   "metadata": {},
   "outputs": [
    {
     "data": {
      "text/plain": [
       "['Id', 'Ecology_2', 'Ecology_3', 'Shops_2']"
      ]
     },
     "execution_count": 353,
     "metadata": {},
     "output_type": "execute_result"
    }
   ],
   "source": [
    "# Категориальные признаки\n",
    "train_df.select_dtypes(include='object').columns.tolist()"
   ]
  },
  {
   "cell_type": "code",
   "execution_count": 354,
   "id": "81801b6b",
   "metadata": {},
   "outputs": [
    {
     "data": {
      "text/plain": [
       "B    9903\n",
       "A      97\n",
       "Name: Ecology_2, dtype: int64"
      ]
     },
     "execution_count": 354,
     "metadata": {},
     "output_type": "execute_result"
    }
   ],
   "source": [
    "train_df['Ecology_2'].value_counts()"
   ]
  },
  {
   "cell_type": "code",
   "execution_count": 278,
   "id": "8c9af427",
   "metadata": {},
   "outputs": [
    {
     "data": {
      "text/plain": [
       "B    9725\n",
       "A     275\n",
       "Name: Ecology_3, dtype: int64"
      ]
     },
     "execution_count": 278,
     "metadata": {},
     "output_type": "execute_result"
    }
   ],
   "source": [
    "train_df['Ecology_3'].value_counts()"
   ]
  },
  {
   "cell_type": "code",
   "execution_count": 279,
   "id": "ce28a5b1",
   "metadata": {},
   "outputs": [
    {
     "data": {
      "text/plain": [
       "B    9175\n",
       "A     825\n",
       "Name: Shops_2, dtype: int64"
      ]
     },
     "execution_count": 279,
     "metadata": {},
     "output_type": "execute_result"
    }
   ],
   "source": [
    "train_df['Shops_2'].value_counts()"
   ]
  },
  {
   "cell_type": "markdown",
   "id": "c4772a32",
   "metadata": {},
   "source": [
    "# Подготовка данных"
   ]
  },
  {
   "cell_type": "code",
   "execution_count": 638,
   "id": "4d1bb34b",
   "metadata": {},
   "outputs": [
    {
     "name": "stdout",
     "output_type": "stream",
     "text": [
      "<class 'pandas.core.frame.DataFrame'>\n",
      "RangeIndex: 10000 entries, 0 to 9999\n",
      "Data columns (total 20 columns):\n",
      " #   Column         Non-Null Count  Dtype  \n",
      "---  ------         --------------  -----  \n",
      " 0   Id             10000 non-null  int64  \n",
      " 1   DistrictId     10000 non-null  int64  \n",
      " 2   Rooms          10000 non-null  float64\n",
      " 3   Square         10000 non-null  float64\n",
      " 4   LifeSquare     7887 non-null   float64\n",
      " 5   KitchenSquare  10000 non-null  float64\n",
      " 6   Floor          10000 non-null  int64  \n",
      " 7   HouseFloor     10000 non-null  float64\n",
      " 8   HouseYear      10000 non-null  int64  \n",
      " 9   Ecology_1      10000 non-null  float64\n",
      " 10  Ecology_2      10000 non-null  int64  \n",
      " 11  Ecology_3      10000 non-null  int64  \n",
      " 12  Social_1       10000 non-null  int64  \n",
      " 13  Social_2       10000 non-null  int64  \n",
      " 14  Social_3       10000 non-null  int64  \n",
      " 15  Healthcare_1   5202 non-null   float64\n",
      " 16  Helthcare_2    10000 non-null  int64  \n",
      " 17  Shops_1        10000 non-null  int64  \n",
      " 18  Shops_2        10000 non-null  int64  \n",
      " 19  Price          10000 non-null  float64\n",
      "dtypes: float64(8), int64(12)\n",
      "memory usage: 1.5 MB\n"
     ]
    }
   ],
   "source": [
    "# Замена на бинарные значения\n",
    "objects = ['Ecology_2', 'Ecology_3', 'Shops_2']\n",
    "\n",
    "train_df[objects] = train_df[objects].replace({'A':0, 'B':1})\n",
    "test_df[objects] = test_df[objects].replace({'A':0, 'B':1})\n",
    "\n",
    "train_df.info()"
   ]
  },
  {
   "cell_type": "code",
   "execution_count": 639,
   "id": "4913d4c5",
   "metadata": {},
   "outputs": [
    {
     "data": {
      "text/plain": [
       "LifeSquare      2113\n",
       "Healthcare_1    4798\n",
       "dtype: int64"
      ]
     },
     "execution_count": 639,
     "metadata": {},
     "output_type": "execute_result"
    }
   ],
   "source": [
    "# Пропущенные значения\n",
    "train_df.isna().sum()[train_df.isna().sum() != 0]"
   ]
  },
  {
   "cell_type": "code",
   "execution_count": 640,
   "id": "9374be33",
   "metadata": {},
   "outputs": [
    {
     "data": {
      "text/plain": [
       "LifeSquare      1041\n",
       "Healthcare_1    2377\n",
       "dtype: int64"
      ]
     },
     "execution_count": 640,
     "metadata": {},
     "output_type": "execute_result"
    }
   ],
   "source": [
    "test_df.isna().sum()[test_df.isna().sum() != 0]"
   ]
  },
  {
   "cell_type": "code",
   "execution_count": 641,
   "id": "47d97160",
   "metadata": {},
   "outputs": [
    {
     "data": {
      "image/png": "[encoded data removed]",
      "text/plain": [
       "<Figure size 720x360 with 1 Axes>"
      ]
     },
     "metadata": {
      "needs_background": "light"
     },
     "output_type": "display_data"
    }
   ],
   "source": [
    "# На Healthcare_1 больше всего влияние оказывает DistrictID\n",
    "correlation = train_df.corrwith(train_df['Healthcare_1']).sort_values()\n",
    "correlation.drop(['Healthcare_1','Price',], inplace=True)\n",
    "\n",
    "plt.figure(figsize = (10, 5))\n",
    "plt.bar(correlation.index, correlation)\n",
    "plt.xticks(rotation='90')\n",
    "plt.xlabel('Признаки')\n",
    "plt.ylabel('Корреляция')\n",
    "plt.show()"
   ]
  },
  {
   "cell_type": "code",
   "execution_count": 642,
   "id": "8e1fd81c",
   "metadata": {},
   "outputs": [],
   "source": [
    "# Заменим пропущенные значения Healthcare_1 на средние значения по району\n",
    "\n",
    "train_df.loc[train_df['Healthcare_1'].isna(), 'Healthcare_1'] =\\\n",
    "    train_df.groupby(['DistrictId'])['Healthcare_1'].transform(lambda x: x.mean())\n",
    "test_df.loc[test_df['Healthcare_1'].isna(), 'Healthcare_1'] =\\\n",
    "    train_df.groupby(['DistrictId'])['Healthcare_1'].transform(lambda x: x.mean())"
   ]
  },
  {
   "cell_type": "code",
   "execution_count": 597,
   "id": "319e9a70",
   "metadata": {},
   "outputs": [
    {
     "data": {
      "text/plain": [
       "1884"
      ]
     },
     "execution_count": 597,
     "metadata": {},
     "output_type": "execute_result"
    }
   ],
   "source": [
    "(train_df['Healthcare_1'].isna()).sum()"
   ]
  },
  {
   "cell_type": "code",
   "execution_count": 598,
   "id": "666d5e87",
   "metadata": {},
   "outputs": [
    {
     "data": {
      "text/plain": [
       "416"
      ]
     },
     "execution_count": 598,
     "metadata": {},
     "output_type": "execute_result"
    }
   ],
   "source": [
    "(test_df['Healthcare_1'].isna()).sum()"
   ]
  },
  {
   "cell_type": "code",
   "execution_count": 643,
   "id": "9d7fb1d4",
   "metadata": {},
   "outputs": [],
   "source": [
    "# Оставшиеся пропуски заменим медианой\n",
    "train_df['Healthcare_1'].fillna(train_df['Healthcare_1'].median(), inplace=True)\n",
    "test_df['Healthcare_1'].fillna(train_df['Healthcare_1'].median(), inplace=True)"
   ]
  },
  {
   "cell_type": "code",
   "execution_count": 644,
   "id": "f3222672",
   "metadata": {},
   "outputs": [],
   "source": [
    "train_df['DistrictId'] = train_df['DistrictId'].astype(str)\n",
    "test_df['DistrictId'] = test_df['DistrictId'].astype(str)"
   ]
  },
  {
   "cell_type": "code",
   "execution_count": 26,
   "id": "f0bf2926",
   "metadata": {},
   "outputs": [],
   "source": [
    "# Обработаем выбросы площадей кухни, общей площади и жилого пространства."
   ]
  },
  {
   "cell_type": "code",
   "execution_count": 645,
   "id": "c2d2bf93",
   "metadata": {},
   "outputs": [],
   "source": [
    "# Заменим медианой значения выше 0.975 квантиля, меньше либо равное 3, за исключением значения 0.\n",
    "train_df.loc[(train_df['KitchenSquare'] > train_df['KitchenSquare'].quantile(.975)) | \\\n",
    "    (train_df['KitchenSquare'] > train_df['Square']) | (train_df['KitchenSquare'] <= 3) \\\n",
    "             & (train_df['KitchenSquare'] > 0), 'KitchenSquare'] = train_df['KitchenSquare'].median()\n",
    "test_df.loc[(test_df['KitchenSquare'] > test_df['KitchenSquare'].quantile(.975)) | \\\n",
    "    (test_df['KitchenSquare'] > test_df['Square']) | (test_df['KitchenSquare'] <= 3) \\\n",
    "             & (test_df['KitchenSquare'] > 0), 'KitchenSquare'] = train_df['KitchenSquare'].median()"
   ]
  },
  {
   "cell_type": "code",
   "execution_count": 646,
   "id": "2a51fd51",
   "metadata": {},
   "outputs": [],
   "source": [
    "# Заменим значения меньше 20 на 20 и больше 200 на 200.\n",
    "train_df.loc[train_df['Square'] <= 20, 'Square'] = 20\n",
    "train_df.loc[train_df['Square'] >= 200, 'Square'] = 200\n",
    "test_df.loc[test_df['Square'] <= 20, 'Square'] = 20\n",
    "test_df.loc[test_df['Square'] >= 200, 'Square'] = 200"
   ]
  },
  {
   "cell_type": "code",
   "execution_count": 647,
   "id": "707fbb96",
   "metadata": {},
   "outputs": [],
   "source": [
    "# Заменим пропуски значениями Square - KitchenSquare - 5 (площадь туалетов, ванных и коридоров)\n",
    "train_df.loc[train_df['LifeSquare'].isna(), 'LifeSquare'] = train_df['Square'] - train_df['KitchenSquare'] -5\n",
    "test_df.loc[test_df['LifeSquare'].isna(), 'LifeSquare'] = test_df['Square'] - test_df['KitchenSquare'] -5"
   ]
  },
  {
   "cell_type": "code",
   "execution_count": 604,
   "id": "9e9f528e",
   "metadata": {},
   "outputs": [
    {
     "data": {
      "text/plain": [
       "476"
      ]
     },
     "execution_count": 604,
     "metadata": {},
     "output_type": "execute_result"
    }
   ],
   "source": [
    "(train_df['LifeSquare'] > train_df['Square']).sum()"
   ]
  },
  {
   "cell_type": "code",
   "execution_count": 648,
   "id": "d8db34b6",
   "metadata": {},
   "outputs": [],
   "source": [
    "# Заменим такие значения Square - KitchenSquare - 5 (площадь туалетов, ванных и коридоров)\n",
    "train_df.loc[(train_df['LifeSquare'] > train_df['Square']), 'LifeSquare'] = train_df['Square'] - train_df['KitchenSquare'] -5\n",
    "test_df.loc[(test_df['LifeSquare'] > test_df['Square']), 'LifeSquare'] = test_df['Square'] - test_df['KitchenSquare'] -5"
   ]
  },
  {
   "cell_type": "code",
   "execution_count": 649,
   "id": "0e5a00ae",
   "metadata": {},
   "outputs": [
    {
     "data": {
      "image/png": "[encoded data removed]",
      "text/plain": [
       "<Figure size 720x432 with 1 Axes>"
      ]
     },
     "metadata": {
      "needs_background": "light"
     },
     "output_type": "display_data"
    }
   ],
   "source": [
    "# Обработка выбросов в количестве комнат\n",
    "\n",
    "plt.figure(figsize = (10, 6))\n",
    "sns.boxplot(train_df['Rooms'], train_df['Price'])\n",
    "plt.xlabel('Rooms')\n",
    "plt.ylabel('Price')\n",
    "plt.show()"
   ]
  },
  {
   "cell_type": "code",
   "execution_count": 650,
   "id": "6c8fb1a1",
   "metadata": {},
   "outputs": [
    {
     "data": {
      "text/plain": [
       "2.0     2030\n",
       "1.0     1769\n",
       "3.0     1099\n",
       "4.0       90\n",
       "5.0        7\n",
       "6.0        2\n",
       "0.0        2\n",
       "17.0       1\n",
       "Name: Rooms, dtype: int64"
      ]
     },
     "execution_count": 650,
     "metadata": {},
     "output_type": "execute_result"
    }
   ],
   "source": [
    "test_df['Rooms'].value_counts()"
   ]
  },
  {
   "cell_type": "code",
   "execution_count": 651,
   "id": "05823b24",
   "metadata": {},
   "outputs": [],
   "source": [
    "# Заменим модой количество комнат равное 0 или больше 6.\n",
    "train_df.loc[(train_df['Rooms'] > 6) | (train_df['Rooms'] == 0), 'Rooms'] = train_df['Rooms'].mode()[0]\n",
    "test_df.loc[(test_df['Rooms'] > 6) | (test_df['Rooms'] == 0), 'Rooms'] = train_df['Rooms'].mode()[0]"
   ]
  },
  {
   "cell_type": "code",
   "execution_count": 652,
   "id": "28eda670",
   "metadata": {},
   "outputs": [
    {
     "data": {
      "text/plain": [
       "2.0    3891\n",
       "1.0    3705\n",
       "3.0    2235\n",
       "4.0     150\n",
       "5.0      18\n",
       "6.0       1\n",
       "Name: Rooms, dtype: int64"
      ]
     },
     "execution_count": 652,
     "metadata": {},
     "output_type": "execute_result"
    }
   ],
   "source": [
    "train_df['Rooms'].value_counts()"
   ]
  },
  {
   "cell_type": "code",
   "execution_count": 160,
   "id": "a93e2795",
   "metadata": {},
   "outputs": [],
   "source": [
    "# Обработаем выбросы по этажам "
   ]
  },
  {
   "cell_type": "code",
   "execution_count": 653,
   "id": "c8c0d9fd",
   "metadata": {},
   "outputs": [],
   "source": [
    "# Заменим медианой этажность равную 0 и выше 90\n",
    "train_df.loc[(train_df['HouseFloor'] == 0) | \\\n",
    "    (train_df['HouseFloor'] > 90), 'HouseFloor'] = train_df['HouseFloor'].median()\n",
    "test_df.loc[(test_df['HouseFloor'] == 0) | \\\n",
    "    (test_df['HouseFloor'] > 90), 'HouseFloor'] = train_df['HouseFloor'].median()"
   ]
  },
  {
   "cell_type": "code",
   "execution_count": 654,
   "id": "4b4ac116",
   "metadata": {},
   "outputs": [
    {
     "data": {
      "text/plain": [
       "1610"
      ]
     },
     "execution_count": 654,
     "metadata": {},
     "output_type": "execute_result"
    }
   ],
   "source": [
    "(train_df['Floor'] > train_df['HouseFloor']).sum()"
   ]
  },
  {
   "cell_type": "code",
   "execution_count": 655,
   "id": "211eb362",
   "metadata": {},
   "outputs": [],
   "source": [
    "# Поменяем местами этаж и этажность\n",
    "train_df['Floor_temp'] = train_df['Floor']\n",
    "test_df['Floor_temp'] = test_df['Floor']\n",
    "\n",
    "train_df.loc[(train_df['Floor'] > train_df['HouseFloor']), 'Floor'] = \\\n",
    "    train_df.loc[(train_df['Floor'] > train_df['HouseFloor']), 'HouseFloor']\n",
    "train_df.loc[(train_df['Floor'] > train_df['HouseFloor']), 'HouseFloor'] = \\\n",
    "    train_df.loc[(train_df['Floor'] > train_df['HouseFloor']), 'Floor_temp']\n",
    "test_df.loc[(test_df['Floor'] > test_df['HouseFloor']), 'Floor'] = \\\n",
    "    test_df.loc[(test_df['Floor'] > test_df['HouseFloor']), 'HouseFloor']\n",
    "test_df.loc[(test_df['Floor'] > test_df['HouseFloor']), 'HouseFloor'] = \\\n",
    "    test_df.loc[(test_df['Floor'] > test_df['HouseFloor']), 'Floor_temp']\n",
    "\n",
    "train_df.drop('Floor_temp', axis=1, inplace=True)\n",
    "test_df.drop('Floor_temp', axis=1, inplace=True)"
   ]
  },
  {
   "cell_type": "code",
   "execution_count": 656,
   "id": "7c72f8cd",
   "metadata": {},
   "outputs": [
    {
     "data": {
      "text/plain": [
       "array([    2014,     1966,     1988,     1977,     1972,     1968,\n",
       "           1986,     2008,     1978,     2012,     1969,     2003,\n",
       "           1981,     1962,     2015,     2018,     1976,     1985,\n",
       "           1960,     2019,     1974,     1956,     1963,     1961,\n",
       "           1979,     2006,     1953,     1973,     1982,     1965,\n",
       "           2007,     2013,     1983,     1995,     1971,     2017,\n",
       "           1964,     1991,     1990,     2016,     2011,     1984,\n",
       "           1993,     1997,     2009,     1975,     2010,     1987,\n",
       "           1935,     1970,     1967,     1989,     1959,     1996,\n",
       "           2005,     1994,     1958,     2004,     1998,     1992,\n",
       "           1980,     2000,     2002,     1954,     2001,     1999,\n",
       "           1917,     1955,     1957,     1934,     2020,     1932,\n",
       "           1942,     1940,     1937,     1941,     1939,     1931,\n",
       "           1951,     1912,     1918,     1952,     1919,     1936,\n",
       "           1930,     1938,     1950,     1933,     1929,     1948,\n",
       "           1947,     1914,     1928,     1910,     1916,     4968,\n",
       "       20052011], dtype=int64)"
      ]
     },
     "execution_count": 656,
     "metadata": {},
     "output_type": "execute_result"
    }
   ],
   "source": [
    "# Обработаем выбросы HouseYear\n",
    "train_df['HouseYear'].unique()"
   ]
  },
  {
   "cell_type": "code",
   "execution_count": 657,
   "id": "dd9f91c6",
   "metadata": {},
   "outputs": [
    {
     "data": {
      "text/plain": [
       "array([1970, 2017, 1977, 1965, 2011, 2014, 1974, 1981, 2009, 2004, 2007,\n",
       "       1990, 2015, 1979, 1972, 2020, 1964, 1997, 1980, 2016, 1988, 1968,\n",
       "       1994, 2013, 1967, 1960, 2018, 1949, 2000, 2002, 1982, 1963, 1959,\n",
       "       1989, 1962, 1985, 1966, 1958, 1999, 2008, 2005, 2001, 1995, 1978,\n",
       "       1992, 1986, 2006, 2003, 1961, 1969, 2010, 1971, 1996, 1987, 1975,\n",
       "       2019, 1973, 1998, 1957, 1993, 1976, 1956, 2012, 1983, 1984, 1932,\n",
       "       1941, 1928, 1935, 1931, 1926, 1991, 1914, 1952, 1930, 1953, 1917,\n",
       "       1938, 1933, 1948, 1929, 1943, 1927, 1955, 1934, 1908, 1954, 1918,\n",
       "       1950, 1920, 1910, 1909, 1911, 1937, 1939, 1940, 1912], dtype=int64)"
      ]
     },
     "execution_count": 657,
     "metadata": {},
     "output_type": "execute_result"
    }
   ],
   "source": [
    "test_df['HouseYear'].unique()"
   ]
  },
  {
   "cell_type": "code",
   "execution_count": 658,
   "id": "47140ef9",
   "metadata": {},
   "outputs": [
    {
     "data": {
      "text/plain": [
       "{1916, 1919, 1936, 1942, 1947, 1951, 4968, 20052011}"
      ]
     },
     "execution_count": 658,
     "metadata": {},
     "output_type": "execute_result"
    }
   ],
   "source": [
    "set(train_df['HouseYear'].unique()) - set(test_df['HouseYear'].unique())"
   ]
  },
  {
   "cell_type": "code",
   "execution_count": 659,
   "id": "decfb881",
   "metadata": {},
   "outputs": [
    {
     "data": {
      "text/plain": [
       "{1908, 1909, 1911, 1920, 1926, 1927, 1943, 1949}"
      ]
     },
     "execution_count": 659,
     "metadata": {},
     "output_type": "execute_result"
    }
   ],
   "source": [
    "set(test_df['HouseYear'].unique()) - set(train_df['HouseYear'].unique())"
   ]
  },
  {
   "cell_type": "code",
   "execution_count": 660,
   "id": "27808ce7",
   "metadata": {},
   "outputs": [],
   "source": [
    "train_df.loc[train_df[\"HouseYear\"] == 4968, 'HouseYear'] = 1968\n",
    "train_df.loc[train_df[\"HouseYear\"] == 20052011, 'HouseYear'] = 2005"
   ]
  },
  {
   "cell_type": "markdown",
   "id": "5b3dde7b",
   "metadata": {},
   "source": [
    "### Построение новых признаков "
   ]
  },
  {
   "cell_type": "code",
   "execution_count": 661,
   "id": "daa4d501",
   "metadata": {},
   "outputs": [
    {
     "data": {
      "text/html": [
       "<div>\n",
       "<style scoped>\n",
       "    .dataframe tbody tr th:only-of-type {\n",
       "        vertical-align: middle;\n",
       "    }\n",
       "\n",
       "    .dataframe tbody tr th {\n",
       "        vertical-align: top;\n",
       "    }\n",
       "\n",
       "    .dataframe thead th {\n",
       "        text-align: right;\n",
       "    }\n",
       "</style>\n",
       "<table border=\"1\" class=\"dataframe\">\n",
       "  <thead>\n",
       "    <tr style=\"text-align: right;\">\n",
       "      <th></th>\n",
       "      <th>DistrictId</th>\n",
       "      <th>DistrictSize</th>\n",
       "    </tr>\n",
       "  </thead>\n",
       "  <tbody>\n",
       "    <tr>\n",
       "      <th>0</th>\n",
       "      <td>27</td>\n",
       "      <td>851</td>\n",
       "    </tr>\n",
       "    <tr>\n",
       "      <th>1</th>\n",
       "      <td>1</td>\n",
       "      <td>652</td>\n",
       "    </tr>\n",
       "    <tr>\n",
       "      <th>2</th>\n",
       "      <td>23</td>\n",
       "      <td>565</td>\n",
       "    </tr>\n",
       "    <tr>\n",
       "      <th>3</th>\n",
       "      <td>6</td>\n",
       "      <td>511</td>\n",
       "    </tr>\n",
       "    <tr>\n",
       "      <th>4</th>\n",
       "      <td>9</td>\n",
       "      <td>294</td>\n",
       "    </tr>\n",
       "  </tbody>\n",
       "</table>\n",
       "</div>"
      ],
      "text/plain": [
       "  DistrictId  DistrictSize\n",
       "0         27           851\n",
       "1          1           652\n",
       "2         23           565\n",
       "3          6           511\n",
       "4          9           294"
      ]
     },
     "execution_count": 661,
     "metadata": {},
     "output_type": "execute_result"
    }
   ],
   "source": [
    "# DistrictSize\n",
    "district_size = train_df['DistrictId'].value_counts().reset_index()\\\n",
    "                    .rename(columns={'index':'DistrictId', 'DistrictId':'DistrictSize'})\n",
    "district_size_test = test_df['DistrictId'].value_counts().reset_index()\\\n",
    "                    .rename(columns={'index':'DistrictId', 'DistrictId':'DistrictSize'})\n",
    "\n",
    "district_size.head()"
   ]
  },
  {
   "cell_type": "code",
   "execution_count": 662,
   "id": "5fe20383",
   "metadata": {},
   "outputs": [
    {
     "data": {
      "text/html": [
       "<div>\n",
       "<style scoped>\n",
       "    .dataframe tbody tr th:only-of-type {\n",
       "        vertical-align: middle;\n",
       "    }\n",
       "\n",
       "    .dataframe tbody tr th {\n",
       "        vertical-align: top;\n",
       "    }\n",
       "\n",
       "    .dataframe thead th {\n",
       "        text-align: right;\n",
       "    }\n",
       "</style>\n",
       "<table border=\"1\" class=\"dataframe\">\n",
       "  <thead>\n",
       "    <tr style=\"text-align: right;\">\n",
       "      <th></th>\n",
       "      <th>Id</th>\n",
       "      <th>DistrictId</th>\n",
       "      <th>Rooms</th>\n",
       "      <th>Square</th>\n",
       "      <th>LifeSquare</th>\n",
       "      <th>KitchenSquare</th>\n",
       "      <th>Floor</th>\n",
       "      <th>HouseFloor</th>\n",
       "      <th>HouseYear</th>\n",
       "      <th>Ecology_1</th>\n",
       "      <th>...</th>\n",
       "      <th>Ecology_3</th>\n",
       "      <th>Social_1</th>\n",
       "      <th>Social_2</th>\n",
       "      <th>Social_3</th>\n",
       "      <th>Healthcare_1</th>\n",
       "      <th>Helthcare_2</th>\n",
       "      <th>Shops_1</th>\n",
       "      <th>Shops_2</th>\n",
       "      <th>Price</th>\n",
       "      <th>DistrictSize</th>\n",
       "    </tr>\n",
       "  </thead>\n",
       "  <tbody>\n",
       "    <tr>\n",
       "      <th>0</th>\n",
       "      <td>11809</td>\n",
       "      <td>27</td>\n",
       "      <td>3.0</td>\n",
       "      <td>115.027311</td>\n",
       "      <td>100.027311</td>\n",
       "      <td>10.0</td>\n",
       "      <td>4.0</td>\n",
       "      <td>10.0</td>\n",
       "      <td>2014</td>\n",
       "      <td>0.075424</td>\n",
       "      <td>...</td>\n",
       "      <td>1</td>\n",
       "      <td>11</td>\n",
       "      <td>3097</td>\n",
       "      <td>0</td>\n",
       "      <td>770.00000</td>\n",
       "      <td>0</td>\n",
       "      <td>0</td>\n",
       "      <td>1</td>\n",
       "      <td>305018.871089</td>\n",
       "      <td>851</td>\n",
       "    </tr>\n",
       "    <tr>\n",
       "      <th>1</th>\n",
       "      <td>3013</td>\n",
       "      <td>22</td>\n",
       "      <td>1.0</td>\n",
       "      <td>39.832524</td>\n",
       "      <td>23.169223</td>\n",
       "      <td>8.0</td>\n",
       "      <td>7.0</td>\n",
       "      <td>8.0</td>\n",
       "      <td>1966</td>\n",
       "      <td>0.118537</td>\n",
       "      <td>...</td>\n",
       "      <td>1</td>\n",
       "      <td>30</td>\n",
       "      <td>6207</td>\n",
       "      <td>1</td>\n",
       "      <td>1183.00000</td>\n",
       "      <td>1</td>\n",
       "      <td>0</td>\n",
       "      <td>1</td>\n",
       "      <td>177734.553407</td>\n",
       "      <td>78</td>\n",
       "    </tr>\n",
       "    <tr>\n",
       "      <th>2</th>\n",
       "      <td>8215</td>\n",
       "      <td>1</td>\n",
       "      <td>3.0</td>\n",
       "      <td>78.342215</td>\n",
       "      <td>47.671972</td>\n",
       "      <td>10.0</td>\n",
       "      <td>2.0</td>\n",
       "      <td>17.0</td>\n",
       "      <td>1988</td>\n",
       "      <td>0.025609</td>\n",
       "      <td>...</td>\n",
       "      <td>1</td>\n",
       "      <td>33</td>\n",
       "      <td>5261</td>\n",
       "      <td>0</td>\n",
       "      <td>240.00000</td>\n",
       "      <td>3</td>\n",
       "      <td>1</td>\n",
       "      <td>1</td>\n",
       "      <td>282078.720850</td>\n",
       "      <td>652</td>\n",
       "    </tr>\n",
       "    <tr>\n",
       "      <th>3</th>\n",
       "      <td>2352</td>\n",
       "      <td>1</td>\n",
       "      <td>1.0</td>\n",
       "      <td>40.409907</td>\n",
       "      <td>29.409907</td>\n",
       "      <td>6.0</td>\n",
       "      <td>10.0</td>\n",
       "      <td>22.0</td>\n",
       "      <td>1977</td>\n",
       "      <td>0.007122</td>\n",
       "      <td>...</td>\n",
       "      <td>1</td>\n",
       "      <td>1</td>\n",
       "      <td>264</td>\n",
       "      <td>0</td>\n",
       "      <td>228.77193</td>\n",
       "      <td>0</td>\n",
       "      <td>1</td>\n",
       "      <td>1</td>\n",
       "      <td>168106.007630</td>\n",
       "      <td>652</td>\n",
       "    </tr>\n",
       "    <tr>\n",
       "      <th>4</th>\n",
       "      <td>13866</td>\n",
       "      <td>94</td>\n",
       "      <td>2.0</td>\n",
       "      <td>64.285067</td>\n",
       "      <td>38.562517</td>\n",
       "      <td>9.0</td>\n",
       "      <td>16.0</td>\n",
       "      <td>16.0</td>\n",
       "      <td>1972</td>\n",
       "      <td>0.282798</td>\n",
       "      <td>...</td>\n",
       "      <td>1</td>\n",
       "      <td>33</td>\n",
       "      <td>8667</td>\n",
       "      <td>2</td>\n",
       "      <td>770.00000</td>\n",
       "      <td>0</td>\n",
       "      <td>6</td>\n",
       "      <td>1</td>\n",
       "      <td>343995.102962</td>\n",
       "      <td>89</td>\n",
       "    </tr>\n",
       "  </tbody>\n",
       "</table>\n",
       "<p>5 rows × 21 columns</p>\n",
       "</div>"
      ],
      "text/plain": [
       "      Id DistrictId  Rooms      Square  LifeSquare  KitchenSquare  Floor  \\\n",
       "0  11809         27    3.0  115.027311  100.027311           10.0    4.0   \n",
       "1   3013         22    1.0   39.832524   23.169223            8.0    7.0   \n",
       "2   8215          1    3.0   78.342215   47.671972           10.0    2.0   \n",
       "3   2352          1    1.0   40.409907   29.409907            6.0   10.0   \n",
       "4  13866         94    2.0   64.285067   38.562517            9.0   16.0   \n",
       "\n",
       "   HouseFloor  HouseYear  Ecology_1  ...  Ecology_3  Social_1  Social_2  \\\n",
       "0        10.0       2014   0.075424  ...          1        11      3097   \n",
       "1         8.0       1966   0.118537  ...          1        30      6207   \n",
       "2        17.0       1988   0.025609  ...          1        33      5261   \n",
       "3        22.0       1977   0.007122  ...          1         1       264   \n",
       "4        16.0       1972   0.282798  ...          1        33      8667   \n",
       "\n",
       "   Social_3  Healthcare_1  Helthcare_2  Shops_1  Shops_2          Price  \\\n",
       "0         0     770.00000            0        0        1  305018.871089   \n",
       "1         1    1183.00000            1        0        1  177734.553407   \n",
       "2         0     240.00000            3        1        1  282078.720850   \n",
       "3         0     228.77193            0        1        1  168106.007630   \n",
       "4         2     770.00000            0        6        1  343995.102962   \n",
       "\n",
       "   DistrictSize  \n",
       "0           851  \n",
       "1            78  \n",
       "2           652  \n",
       "3           652  \n",
       "4            89  \n",
       "\n",
       "[5 rows x 21 columns]"
      ]
     },
     "execution_count": 662,
     "metadata": {},
     "output_type": "execute_result"
    }
   ],
   "source": [
    "train_df = train_df.merge(district_size, on='DistrictId', how='left')\n",
    "test_df = test_df.merge(district_size_test, on='DistrictId', how='left')\n",
    "train_df.head()"
   ]
  },
  {
   "cell_type": "code",
   "execution_count": 663,
   "id": "f73117f6",
   "metadata": {},
   "outputs": [
    {
     "data": {
      "text/plain": [
       "True     5069\n",
       "False    4931\n",
       "Name: DistrictSize, dtype: int64"
      ]
     },
     "execution_count": 663,
     "metadata": {},
     "output_type": "execute_result"
    }
   ],
   "source": [
    "# IsDistrictLarge\n",
    "(train_df['DistrictSize'] > 100).value_counts()"
   ]
  },
  {
   "cell_type": "code",
   "execution_count": 664,
   "id": "9d369be0",
   "metadata": {},
   "outputs": [],
   "source": [
    "train_df['IsDistrictLarge'] = (train_df['DistrictSize'] > 100).astype(int)\n",
    "test_df['IsDistrictLarge'] = (test_df['DistrictSize'] > 100).astype(int)"
   ]
  },
  {
   "cell_type": "code",
   "execution_count": 563,
   "id": "80729a43",
   "metadata": {},
   "outputs": [
    {
     "data": {
      "text/html": [
       "<div>\n",
       "<style scoped>\n",
       "    .dataframe tbody tr th:only-of-type {\n",
       "        vertical-align: middle;\n",
       "    }\n",
       "\n",
       "    .dataframe tbody tr th {\n",
       "        vertical-align: top;\n",
       "    }\n",
       "\n",
       "    .dataframe thead th {\n",
       "        text-align: right;\n",
       "    }\n",
       "</style>\n",
       "<table border=\"1\" class=\"dataframe\">\n",
       "  <thead>\n",
       "    <tr style=\"text-align: right;\">\n",
       "      <th></th>\n",
       "      <th>Id</th>\n",
       "      <th>DistrictId</th>\n",
       "      <th>Rooms</th>\n",
       "      <th>Square</th>\n",
       "      <th>LifeSquare</th>\n",
       "      <th>KitchenSquare</th>\n",
       "      <th>Floor</th>\n",
       "      <th>HouseFloor</th>\n",
       "      <th>HouseYear</th>\n",
       "      <th>Ecology_1</th>\n",
       "      <th>...</th>\n",
       "      <th>Social_1</th>\n",
       "      <th>Social_2</th>\n",
       "      <th>Social_3</th>\n",
       "      <th>Healthcare_1</th>\n",
       "      <th>Helthcare_2</th>\n",
       "      <th>Shops_1</th>\n",
       "      <th>Shops_2</th>\n",
       "      <th>Price</th>\n",
       "      <th>DistrictSize</th>\n",
       "      <th>IsDistrictLarge</th>\n",
       "    </tr>\n",
       "  </thead>\n",
       "  <tbody>\n",
       "    <tr>\n",
       "      <th>0</th>\n",
       "      <td>11809</td>\n",
       "      <td>27</td>\n",
       "      <td>3.0</td>\n",
       "      <td>115.027311</td>\n",
       "      <td>100.027311</td>\n",
       "      <td>10.0</td>\n",
       "      <td>4.0</td>\n",
       "      <td>10.0</td>\n",
       "      <td>2014</td>\n",
       "      <td>0.075424</td>\n",
       "      <td>...</td>\n",
       "      <td>11</td>\n",
       "      <td>3097</td>\n",
       "      <td>0</td>\n",
       "      <td>770.00000</td>\n",
       "      <td>0</td>\n",
       "      <td>0</td>\n",
       "      <td>1</td>\n",
       "      <td>305018.871089</td>\n",
       "      <td>851</td>\n",
       "      <td>1</td>\n",
       "    </tr>\n",
       "    <tr>\n",
       "      <th>1</th>\n",
       "      <td>3013</td>\n",
       "      <td>22</td>\n",
       "      <td>1.0</td>\n",
       "      <td>39.832524</td>\n",
       "      <td>23.169223</td>\n",
       "      <td>8.0</td>\n",
       "      <td>7.0</td>\n",
       "      <td>8.0</td>\n",
       "      <td>1966</td>\n",
       "      <td>0.118537</td>\n",
       "      <td>...</td>\n",
       "      <td>30</td>\n",
       "      <td>6207</td>\n",
       "      <td>1</td>\n",
       "      <td>1183.00000</td>\n",
       "      <td>1</td>\n",
       "      <td>0</td>\n",
       "      <td>1</td>\n",
       "      <td>177734.553407</td>\n",
       "      <td>78</td>\n",
       "      <td>0</td>\n",
       "    </tr>\n",
       "    <tr>\n",
       "      <th>2</th>\n",
       "      <td>8215</td>\n",
       "      <td>1</td>\n",
       "      <td>3.0</td>\n",
       "      <td>78.342215</td>\n",
       "      <td>47.671972</td>\n",
       "      <td>10.0</td>\n",
       "      <td>2.0</td>\n",
       "      <td>17.0</td>\n",
       "      <td>1988</td>\n",
       "      <td>0.025609</td>\n",
       "      <td>...</td>\n",
       "      <td>33</td>\n",
       "      <td>5261</td>\n",
       "      <td>0</td>\n",
       "      <td>240.00000</td>\n",
       "      <td>3</td>\n",
       "      <td>1</td>\n",
       "      <td>1</td>\n",
       "      <td>282078.720850</td>\n",
       "      <td>652</td>\n",
       "      <td>1</td>\n",
       "    </tr>\n",
       "    <tr>\n",
       "      <th>3</th>\n",
       "      <td>2352</td>\n",
       "      <td>1</td>\n",
       "      <td>1.0</td>\n",
       "      <td>40.409907</td>\n",
       "      <td>29.409907</td>\n",
       "      <td>6.0</td>\n",
       "      <td>10.0</td>\n",
       "      <td>22.0</td>\n",
       "      <td>1977</td>\n",
       "      <td>0.007122</td>\n",
       "      <td>...</td>\n",
       "      <td>1</td>\n",
       "      <td>264</td>\n",
       "      <td>0</td>\n",
       "      <td>228.77193</td>\n",
       "      <td>0</td>\n",
       "      <td>1</td>\n",
       "      <td>1</td>\n",
       "      <td>168106.007630</td>\n",
       "      <td>652</td>\n",
       "      <td>1</td>\n",
       "    </tr>\n",
       "    <tr>\n",
       "      <th>4</th>\n",
       "      <td>13866</td>\n",
       "      <td>94</td>\n",
       "      <td>2.0</td>\n",
       "      <td>64.285067</td>\n",
       "      <td>38.562517</td>\n",
       "      <td>9.0</td>\n",
       "      <td>16.0</td>\n",
       "      <td>16.0</td>\n",
       "      <td>1972</td>\n",
       "      <td>0.282798</td>\n",
       "      <td>...</td>\n",
       "      <td>33</td>\n",
       "      <td>8667</td>\n",
       "      <td>2</td>\n",
       "      <td>770.00000</td>\n",
       "      <td>0</td>\n",
       "      <td>6</td>\n",
       "      <td>1</td>\n",
       "      <td>343995.102962</td>\n",
       "      <td>89</td>\n",
       "      <td>0</td>\n",
       "    </tr>\n",
       "  </tbody>\n",
       "</table>\n",
       "<p>5 rows × 22 columns</p>\n",
       "</div>"
      ],
      "text/plain": [
       "      Id DistrictId  Rooms      Square  LifeSquare  KitchenSquare  Floor  \\\n",
       "0  11809         27    3.0  115.027311  100.027311           10.0    4.0   \n",
       "1   3013         22    1.0   39.832524   23.169223            8.0    7.0   \n",
       "2   8215          1    3.0   78.342215   47.671972           10.0    2.0   \n",
       "3   2352          1    1.0   40.409907   29.409907            6.0   10.0   \n",
       "4  13866         94    2.0   64.285067   38.562517            9.0   16.0   \n",
       "\n",
       "   HouseFloor  HouseYear  Ecology_1  ...  Social_1  Social_2  Social_3  \\\n",
       "0        10.0       2014   0.075424  ...        11      3097         0   \n",
       "1         8.0       1966   0.118537  ...        30      6207         1   \n",
       "2        17.0       1988   0.025609  ...        33      5261         0   \n",
       "3        22.0       1977   0.007122  ...         1       264         0   \n",
       "4        16.0       1972   0.282798  ...        33      8667         2   \n",
       "\n",
       "   Healthcare_1  Helthcare_2  Shops_1  Shops_2          Price  DistrictSize  \\\n",
       "0     770.00000            0        0        1  305018.871089           851   \n",
       "1    1183.00000            1        0        1  177734.553407            78   \n",
       "2     240.00000            3        1        1  282078.720850           652   \n",
       "3     228.77193            0        1        1  168106.007630           652   \n",
       "4     770.00000            0        6        1  343995.102962            89   \n",
       "\n",
       "   IsDistrictLarge  \n",
       "0                1  \n",
       "1                0  \n",
       "2                1  \n",
       "3                1  \n",
       "4                0  \n",
       "\n",
       "[5 rows x 22 columns]"
      ]
     },
     "execution_count": 563,
     "metadata": {},
     "output_type": "execute_result"
    }
   ],
   "source": [
    "train_df.head()"
   ]
  },
  {
   "cell_type": "code",
   "execution_count": 311,
   "id": "84ddb5f6",
   "metadata": {},
   "outputs": [],
   "source": [
    "# PriceRoomDistrict\n",
    "train_df['PriceRoom'] = train_df['Price'] / train_df['Rooms']"
   ]
  },
  {
   "cell_type": "code",
   "execution_count": 312,
   "id": "558ebb79",
   "metadata": {},
   "outputs": [
    {
     "data": {
      "text/html": [
       "<div>\n",
       "<style scoped>\n",
       "    .dataframe tbody tr th:only-of-type {\n",
       "        vertical-align: middle;\n",
       "    }\n",
       "\n",
       "    .dataframe tbody tr th {\n",
       "        vertical-align: top;\n",
       "    }\n",
       "\n",
       "    .dataframe thead th {\n",
       "        text-align: right;\n",
       "    }\n",
       "</style>\n",
       "<table border=\"1\" class=\"dataframe\">\n",
       "  <thead>\n",
       "    <tr style=\"text-align: right;\">\n",
       "      <th></th>\n",
       "      <th>DistrictId</th>\n",
       "      <th>PriceRoomDistrict</th>\n",
       "    </tr>\n",
       "  </thead>\n",
       "  <tbody>\n",
       "    <tr>\n",
       "      <th>0</th>\n",
       "      <td>0</td>\n",
       "      <td>108490.121043</td>\n",
       "    </tr>\n",
       "    <tr>\n",
       "      <th>1</th>\n",
       "      <td>1</td>\n",
       "      <td>106080.898140</td>\n",
       "    </tr>\n",
       "    <tr>\n",
       "      <th>2</th>\n",
       "      <td>10</td>\n",
       "      <td>113675.124241</td>\n",
       "    </tr>\n",
       "    <tr>\n",
       "      <th>3</th>\n",
       "      <td>100</td>\n",
       "      <td>146060.096904</td>\n",
       "    </tr>\n",
       "    <tr>\n",
       "      <th>4</th>\n",
       "      <td>101</td>\n",
       "      <td>104499.155423</td>\n",
       "    </tr>\n",
       "    <tr>\n",
       "      <th>...</th>\n",
       "      <td>...</td>\n",
       "      <td>...</td>\n",
       "    </tr>\n",
       "    <tr>\n",
       "      <th>200</th>\n",
       "      <td>95</td>\n",
       "      <td>156039.000845</td>\n",
       "    </tr>\n",
       "    <tr>\n",
       "      <th>201</th>\n",
       "      <td>96</td>\n",
       "      <td>127496.377095</td>\n",
       "    </tr>\n",
       "    <tr>\n",
       "      <th>202</th>\n",
       "      <td>97</td>\n",
       "      <td>168870.709860</td>\n",
       "    </tr>\n",
       "    <tr>\n",
       "      <th>203</th>\n",
       "      <td>98</td>\n",
       "      <td>112989.528052</td>\n",
       "    </tr>\n",
       "    <tr>\n",
       "      <th>204</th>\n",
       "      <td>99</td>\n",
       "      <td>98852.904670</td>\n",
       "    </tr>\n",
       "  </tbody>\n",
       "</table>\n",
       "<p>205 rows × 2 columns</p>\n",
       "</div>"
      ],
      "text/plain": [
       "    DistrictId  PriceRoomDistrict\n",
       "0            0      108490.121043\n",
       "1            1      106080.898140\n",
       "2           10      113675.124241\n",
       "3          100      146060.096904\n",
       "4          101      104499.155423\n",
       "..         ...                ...\n",
       "200         95      156039.000845\n",
       "201         96      127496.377095\n",
       "202         97      168870.709860\n",
       "203         98      112989.528052\n",
       "204         99       98852.904670\n",
       "\n",
       "[205 rows x 2 columns]"
      ]
     },
     "execution_count": 312,
     "metadata": {},
     "output_type": "execute_result"
    }
   ],
   "source": [
    "price_room_district = train_df.groupby(['DistrictId'], as_index=False)\\\n",
    "                        .agg({'PriceRoom':'median'})\\\n",
    "                        .rename(columns={'PriceRoom':'PriceRoomDistrict'})\n",
    "\n",
    "price_room_district"
   ]
  },
  {
   "cell_type": "code",
   "execution_count": 313,
   "id": "4a89b9a1",
   "metadata": {},
   "outputs": [],
   "source": [
    "train_df = train_df.merge(price_room_district, on=['DistrictId'], how='left').set_index(train_df.index)\n",
    "test_df = test_df.merge(price_room_district, on=['DistrictId'], how='left').set_index(test_df.index)"
   ]
  },
  {
   "cell_type": "code",
   "execution_count": 314,
   "id": "f4e3e67b",
   "metadata": {},
   "outputs": [],
   "source": [
    "train_df = train_df.drop(['PriceRoom'], axis=1)"
   ]
  },
  {
   "cell_type": "code",
   "execution_count": 315,
   "id": "702f737f",
   "metadata": {},
   "outputs": [],
   "source": [
    "train_df['RoomSquare'] = train_df['Square'] / train_df['Rooms']\n",
    "test_df['RoomSquare'] = test_df['Square'] / test_df['Rooms']"
   ]
  },
  {
   "cell_type": "code",
   "execution_count": 316,
   "id": "ff863a2a",
   "metadata": {},
   "outputs": [],
   "source": [
    "test_df.loc[test_df['PriceRoomDistrict'].isna(), 'PriceRoomDistrict'] = test_df['PriceRoomDistrict'].median()"
   ]
  },
  {
   "cell_type": "code",
   "execution_count": 317,
   "id": "08d5a4a9",
   "metadata": {},
   "outputs": [
    {
     "data": {
      "text/plain": [
       "2.0    5487\n",
       "1.0    4125\n",
       "3.0     388\n",
       "Name: Floor_cat, dtype: int64"
      ]
     },
     "execution_count": 317,
     "metadata": {},
     "output_type": "execute_result"
    }
   ],
   "source": [
    "# Floor_cat\n",
    "train_df.loc[train_df['Floor'] <= 5, 'Floor_cat'] = 1  \n",
    "train_df.loc[(train_df['Floor'] > 5) & (train_df['Floor'] <= 17), 'Floor_cat'] = 2\n",
    "train_df.loc[train_df['Floor'] > 17, 'Floor_cat'] = 3\n",
    "\n",
    "test_df.loc[test_df['Floor'] <= 5, 'Floor_cat'] = 1  \n",
    "test_df.loc[(test_df['Floor'] > 5) & (test_df['Floor'] <= 17), 'Floor_cat'] = 2\n",
    "test_df.loc[test_df['Floor'] > 17, 'Floor_cat'] = 3\n",
    "\n",
    "train_df['Floor_cat'].value_counts()"
   ]
  },
  {
   "cell_type": "code",
   "execution_count": 318,
   "id": "372c5a5b",
   "metadata": {},
   "outputs": [
    {
     "data": {
      "text/plain": [
       "1    4125\n",
       "3    3244\n",
       "2    2631\n",
       "Name: Floor_cat_qcut, dtype: int64"
      ]
     },
     "execution_count": 318,
     "metadata": {},
     "output_type": "execute_result"
    }
   ],
   "source": [
    "labels = [1, 2, 3]\n",
    "train_df['Floor_cat_qcut'] = pd.qcut(train_df['Floor'], q = 3, labels = labels)\n",
    "test_df['Floor_cat_qcut'] = pd.qcut(test_df['Floor'], q = 3, labels = labels)\n",
    "train_df['Floor_cat_qcut'].value_counts()"
   ]
  },
  {
   "cell_type": "code",
   "execution_count": 319,
   "id": "edc37d47",
   "metadata": {},
   "outputs": [
    {
     "data": {
      "text/plain": [
       "2.0    6838\n",
       "1.0    1837\n",
       "3.0    1325\n",
       "Name: HouseFloor_cat, dtype: int64"
      ]
     },
     "execution_count": 319,
     "metadata": {},
     "output_type": "execute_result"
    }
   ],
   "source": [
    "# HouseFloor_cat\n",
    "train_df.loc[train_df['HouseFloor'] <= 5, 'HouseFloor_cat'] = 1  \n",
    "train_df.loc[(train_df['HouseFloor'] > 5) & (train_df['HouseFloor'] <= 17), 'HouseFloor_cat'] = 2\n",
    "train_df.loc[train_df['HouseFloor'] > 17, 'HouseFloor_cat'] = 3\n",
    "\n",
    "test_df.loc[test_df['HouseFloor'] <= 5, 'HouseFloor_cat'] = 1  \n",
    "test_df.loc[(test_df['HouseFloor'] > 5) & (test_df['HouseFloor'] <= 17), 'HouseFloor_cat'] = 2\n",
    "test_df.loc[test_df['HouseFloor'] > 17, 'HouseFloor_cat'] = 3\n",
    "\n",
    "train_df['HouseFloor_cat'].value_counts()"
   ]
  },
  {
   "cell_type": "code",
   "execution_count": 320,
   "id": "5f59d941",
   "metadata": {},
   "outputs": [],
   "source": [
    "train_df[['Floor_cat', 'HouseFloor_cat']] = train_df[['Floor_cat', 'HouseFloor_cat']].astype(int)\n",
    "test_df[['Floor_cat', 'HouseFloor_cat']] = test_df[['Floor_cat', 'HouseFloor_cat']].astype(int)"
   ]
  },
  {
   "cell_type": "code",
   "execution_count": 564,
   "id": "08b89be9",
   "metadata": {},
   "outputs": [],
   "source": [
    "class FeatureGenetator():\n",
    "    \"\"\"Генерация новых фич\"\"\"\n",
    "    \n",
    "    def __init__(self):\n",
    "        self.DistrictId_counts = None\n",
    "        self.binary_to_numbers = None\n",
    "        self.med_price_by_district = None\n",
    "        self.med_price_by_floor_year = None\n",
    "        self.house_year_max = None\n",
    "        self.floor_max = None\n",
    "        self.house_year_min = None\n",
    "        self.floor_min = None\n",
    "        self.district_size = None\n",
    "        \n",
    "        \n",
    "    def fit(self, X, y=None):\n",
    "        \n",
    "        X = X.copy()\n",
    "        \n",
    "                \n",
    "        # Target encoding\n",
    "        ## District, Rooms\n",
    "        df = X.copy()\n",
    "        \n",
    "        if y is not None:\n",
    "            df['Price'] = y.values\n",
    "            self.med_price_by_district = df.groupby(['DistrictId', 'Rooms'], as_index=False).agg({'Price':'median'}).rename(columns={'Price':'MedPriceByDistrict'})\n",
    "            self.med_price_by_district_median = self.med_price_by_district['MedPriceByDistrict'].median()\n",
    "            \n",
    "        ## floor, year\n",
    "        if y is not None:\n",
    "            self.floor_max = df['Floor'].max()\n",
    "            self.floor_min = df['Floor'].min()\n",
    "            self.house_year_max = df['HouseYear'].max()\n",
    "            self.house_year_min = df['HouseYear'].min()\n",
    "            df['Price'] = y.values\n",
    "            df = self.floor_to_cat(df)\n",
    "            df = self.year_to_cat(df)\n",
    "            self.med_price_by_floor_year = df.groupby(['year_cat', 'floor_cat'], as_index=False).agg({'Price':'median'}).rename(columns={'Price':'MedPriceByFloorYear'})\n",
    "            self.med_price_by_floor_year_median = self.med_price_by_floor_year['MedPriceByFloorYear'].median()\n",
    "        \n",
    "\n",
    "        \n",
    "    def transform(self, X):\n",
    "        \n",
    "        \n",
    "        # More categorical features\n",
    "        X = self.floor_to_cat(X)  # + столбец floor_cat\n",
    "        X = self.year_to_cat(X)   # + столбец year_cat\n",
    "        \n",
    "        # Target encoding\n",
    "        if self.med_price_by_district is not None:\n",
    "            X = X.merge(self.med_price_by_district, on=['DistrictId', 'Rooms'], how='left')\n",
    "            X['MedPriceByDistrict'].fillna(self.med_price_by_district_median, inplace=True)\n",
    "            \n",
    "        if self.med_price_by_floor_year is not None:\n",
    "            X = X.merge(self.med_price_by_floor_year, on=['year_cat', 'floor_cat'], how='left')\n",
    "            X['MedPriceByFloorYear'].fillna(self.med_price_by_floor_year_median, inplace=True)\n",
    "        \n",
    "        return X\n",
    "    \n",
    "    def floor_to_cat(self, X):\n",
    "        bins = [self.floor_min, 3, 5, 9, 15, self.floor_max]\n",
    "        X['floor_cat'] = pd.cut(X['Floor'], bins=bins, labels=False)\n",
    "\n",
    "        X['floor_cat'].fillna(-1, inplace=True)\n",
    "        return X\n",
    "     \n",
    "    def year_to_cat(self, X):\n",
    "        bins = [self.house_year_min, 1941, 1945, 1980, 2000, 2010, self.house_year_max]\n",
    "        X['year_cat'] = pd.cut(X['HouseYear'], bins=bins, labels=False)\n",
    "\n",
    "        X['year_cat'].fillna(-1, inplace=True)\n",
    "        return X"
   ]
  },
  {
   "cell_type": "markdown",
   "id": "ad33b4a2",
   "metadata": {},
   "source": [
    "# Разбиение на train и test "
   ]
  },
  {
   "cell_type": "code",
   "execution_count": 665,
   "id": "954987e4",
   "metadata": {},
   "outputs": [],
   "source": [
    "target_names = ['Price']"
   ]
  },
  {
   "cell_type": "code",
   "execution_count": 666,
   "id": "4b20b41a",
   "metadata": {},
   "outputs": [],
   "source": [
    "X = train_df.drop(columns=target_names)\n",
    "y = train_df[target_names]"
   ]
  },
  {
   "cell_type": "code",
   "execution_count": 623,
   "id": "c1797ba6",
   "metadata": {},
   "outputs": [],
   "source": [
    "X_train, X_valid, y_train, y_valid = train_test_split(X, y, test_size=0.33, shuffle=True, random_state=21)"
   ]
  },
  {
   "cell_type": "markdown",
   "id": "af3990ba",
   "metadata": {},
   "source": [
    "# Построение модели"
   ]
  },
  {
   "cell_type": "code",
   "execution_count": 624,
   "id": "8832983c",
   "metadata": {},
   "outputs": [],
   "source": [
    "features_gen = FeatureGenetator()\n",
    "features_gen.fit(X_train, y_train)\n",
    "\n",
    "X_train = features_gen.transform(X_train)\n",
    "X_valid = features_gen.transform(X_valid)\n",
    "test_df = features_gen.transform(test_df)"
   ]
  },
  {
   "cell_type": "code",
   "execution_count": 625,
   "id": "e9936e4e",
   "metadata": {},
   "outputs": [
    {
     "data": {
      "text/plain": [
       "(0, 0, 0)"
      ]
     },
     "execution_count": 625,
     "metadata": {},
     "output_type": "execute_result"
    }
   ],
   "source": [
    "X_train.isna().sum().sum(), X_valid.isna().sum().sum(), test_df.isna().sum().sum()"
   ]
  },
  {
   "cell_type": "code",
   "execution_count": 480,
   "id": "2bb58212",
   "metadata": {},
   "outputs": [
    {
     "data": {
      "text/plain": [
       "RandomForestRegressor(max_depth=15, max_features=5, random_state=56)"
      ]
     },
     "execution_count": 480,
     "metadata": {},
     "output_type": "execute_result"
    }
   ],
   "source": [
    "rf_model_best = RandomForestRegressor(max_depth=15,\n",
    "                                    max_features=5,\n",
    "                                    random_state=56)\n",
    "rf_model_best.fit(X_train, y_train)"
   ]
  },
  {
   "cell_type": "code",
   "execution_count": 481,
   "id": "50c7c4ba",
   "metadata": {},
   "outputs": [
    {
     "name": "stdout",
     "output_type": "stream",
     "text": [
      "Train R2:\t0.949\n",
      "Valid R2:\t0.721\n"
     ]
    }
   ],
   "source": [
    "y_train_preds = rf_model_best.predict(X_train)\n",
    "y_valid_preds = rf_model_best.predict(X_valid)\n",
    "\n",
    "print(\"Train R2:\\t\" + str(round(r2(y_train, y_train_preds), 3)))\n",
    "print(\"Valid R2:\\t\" + str(round(r2(y_valid, y_valid_preds), 3)))"
   ]
  },
  {
   "cell_type": "markdown",
   "id": "be9007ec",
   "metadata": {},
   "source": [
    "# Прогнозирование на тестовом датасете "
   ]
  },
  {
   "cell_type": "code",
   "execution_count": 483,
   "id": "0243d715",
   "metadata": {},
   "outputs": [
    {
     "data": {
      "text/plain": [
       "array([159236.24474113, 135120.72616589, 156652.73773714, ...,\n",
       "       147616.51175122, 188860.65677187, 253795.47443015])"
      ]
     },
     "execution_count": 483,
     "metadata": {},
     "output_type": "execute_result"
    }
   ],
   "source": [
    "predictions = rf_model_best.predict(test_df)\n",
    "predictions"
   ]
  },
  {
   "cell_type": "code",
   "execution_count": 672,
   "id": "b7348683",
   "metadata": {},
   "outputs": [
    {
     "data": {
      "text/html": [
       "<div>\n",
       "<style scoped>\n",
       "    .dataframe tbody tr th:only-of-type {\n",
       "        vertical-align: middle;\n",
       "    }\n",
       "\n",
       "    .dataframe tbody tr th {\n",
       "        vertical-align: top;\n",
       "    }\n",
       "\n",
       "    .dataframe thead th {\n",
       "        text-align: right;\n",
       "    }\n",
       "</style>\n",
       "<table border=\"1\" class=\"dataframe\">\n",
       "  <thead>\n",
       "    <tr style=\"text-align: right;\">\n",
       "      <th></th>\n",
       "      <th>Id</th>\n",
       "      <th>Price</th>\n",
       "    </tr>\n",
       "  </thead>\n",
       "  <tbody>\n",
       "    <tr>\n",
       "      <th>0</th>\n",
       "      <td>4567</td>\n",
       "      <td>155941.852857</td>\n",
       "    </tr>\n",
       "    <tr>\n",
       "      <th>1</th>\n",
       "      <td>5925</td>\n",
       "      <td>126922.148770</td>\n",
       "    </tr>\n",
       "    <tr>\n",
       "      <th>2</th>\n",
       "      <td>960</td>\n",
       "      <td>153862.843599</td>\n",
       "    </tr>\n",
       "    <tr>\n",
       "      <th>3</th>\n",
       "      <td>3848</td>\n",
       "      <td>115325.019569</td>\n",
       "    </tr>\n",
       "    <tr>\n",
       "      <th>4</th>\n",
       "      <td>746</td>\n",
       "      <td>164860.118662</td>\n",
       "    </tr>\n",
       "  </tbody>\n",
       "</table>\n",
       "</div>"
      ],
      "text/plain": [
       "     Id          Price\n",
       "0  4567  155941.852857\n",
       "1  5925  126922.148770\n",
       "2   960  153862.843599\n",
       "3  3848  115325.019569\n",
       "4   746  164860.118662"
      ]
     },
     "execution_count": 672,
     "metadata": {},
     "output_type": "execute_result"
    }
   ],
   "source": [
    "preds = pd.DataFrame()\n",
    "preds['Id'] = test_df['Id']\n",
    "preds['Price'] = predictions\n",
    "preds.head()"
   ]
  },
  {
   "cell_type": "code",
   "execution_count": 673,
   "id": "5cd1d18d",
   "metadata": {},
   "outputs": [],
   "source": [
    "preds.to_csv('predictions_01.csv', index=False)"
   ]
  },
  {
   "cell_type": "markdown",
   "id": "1aa8c6e5",
   "metadata": {},
   "source": [
    "# Light auto ML"
   ]
  },
  {
   "cell_type": "code",
   "execution_count": 347,
   "id": "e2292ae4",
   "metadata": {},
   "outputs": [
    {
     "name": "stdout",
     "output_type": "stream",
     "text": [
      "Collecting lightautoml\n",
      "  Downloading LightAutoML-0.3.3-py3-none-any.whl (294 kB)\n",
      "Collecting json2html\n",
      "  Downloading json2html-1.3.0.tar.gz (7.0 kB)\n",
      "Collecting torch<1.9\n",
      "  Downloading torch-1.8.1-cp39-cp39-win_amd64.whl (190.5 MB)\n",
      "Collecting torchvision\n",
      "  Downloading torchvision-0.12.0-cp39-cp39-win_amd64.whl (1.0 MB)\n",
      "Requirement already satisfied: jinja2 in c:\\users\\cluster\\anaconda3\\lib\\site-packages (from lightautoml) (2.11.3)\n",
      "Requirement already satisfied: scikit-learn>=0.22 in c:\\users\\cluster\\anaconda3\\lib\\site-packages (from lightautoml) (0.24.2)\n",
      "Requirement already satisfied: networkx in c:\\users\\cluster\\anaconda3\\lib\\site-packages (from lightautoml) (2.6.3)\n",
      "Requirement already satisfied: scipy in c:\\users\\cluster\\anaconda3\\lib\\site-packages (from lightautoml) (1.7.1)\n",
      "Collecting poetry-core<2.0.0,>=1.0.0\n",
      "  Downloading poetry_core-1.0.8-py2.py3-none-any.whl (425 kB)\n",
      "Collecting dataclasses==0.6\n",
      "  Downloading dataclasses-0.6-py3-none-any.whl (14 kB)\n",
      "Collecting lightgbm<3.0,>=2.3\n",
      "  Downloading lightgbm-2.3.1-py2.py3-none-win_amd64.whl (544 kB)\n",
      "Requirement already satisfied: tqdm in c:\\users\\cluster\\anaconda3\\lib\\site-packages (from lightautoml) (4.62.3)\n",
      "Requirement already satisfied: pandas>=1 in c:\\users\\cluster\\anaconda3\\lib\\site-packages (from lightautoml) (1.3.4)\n",
      "Requirement already satisfied: joblib in c:\\users\\cluster\\anaconda3\\lib\\site-packages (from lightautoml) (1.1.0)\n",
      "Collecting catboost\n",
      "  Downloading catboost-1.0.4-cp39-none-win_amd64.whl (73.5 MB)\n",
      "Collecting holidays\n",
      "  Downloading holidays-0.13-py3-none-any.whl (172 kB)\n",
      "Requirement already satisfied: numpy>=1.20.0 in c:\\users\\cluster\\anaconda3\\lib\\site-packages (from lightautoml) (1.20.3)\n",
      "Collecting cmaes\n",
      "  Downloading cmaes-0.8.2-py3-none-any.whl (15 kB)\n",
      "Collecting autowoe>=1.2\n",
      "  Downloading AutoWoE-1.3.1-py3-none-any.whl (212 kB)\n",
      "Requirement already satisfied: pyyaml in c:\\users\\cluster\\anaconda3\\lib\\site-packages (from lightautoml) (6.0)\n",
      "Requirement already satisfied: seaborn in c:\\users\\cluster\\anaconda3\\lib\\site-packages (from lightautoml) (0.11.2)\n",
      "Collecting optuna\n",
      "  Downloading optuna-2.10.0-py3-none-any.whl (308 kB)\n",
      "Requirement already satisfied: sphinx in c:\\users\\cluster\\anaconda3\\lib\\site-packages (from autowoe>=1.2->lightautoml) (4.2.0)\n",
      "Requirement already satisfied: matplotlib in c:\\users\\cluster\\anaconda3\\lib\\site-packages (from autowoe>=1.2->lightautoml) (3.4.3)\n",
      "Requirement already satisfied: pytz in c:\\users\\cluster\\anaconda3\\lib\\site-packages (from autowoe>=1.2->lightautoml) (2021.3)\n",
      "Collecting StrEnum<0.5.0,>=0.4.7\n",
      "  Downloading StrEnum-0.4.7-py3-none-any.whl (9.9 kB)\n",
      "Requirement already satisfied: pytest in c:\\users\\cluster\\anaconda3\\lib\\site-packages (from autowoe>=1.2->lightautoml) (6.2.4)\n",
      "Collecting sphinx-rtd-theme\n",
      "  Downloading sphinx_rtd_theme-1.0.0-py2.py3-none-any.whl (2.8 MB)\n",
      "Requirement already satisfied: python-dateutil>=2.7.3 in c:\\users\\cluster\\anaconda3\\lib\\site-packages (from pandas>=1->lightautoml) (2.8.2)\n",
      "Requirement already satisfied: six>=1.5 in c:\\users\\cluster\\anaconda3\\lib\\site-packages (from python-dateutil>=2.7.3->pandas>=1->lightautoml) (1.16.0)\n",
      "Requirement already satisfied: threadpoolctl>=2.0.0 in c:\\users\\cluster\\anaconda3\\lib\\site-packages (from scikit-learn>=0.22->lightautoml) (2.2.0)\n",
      "Requirement already satisfied: typing-extensions in c:\\users\\cluster\\anaconda3\\lib\\site-packages (from torch<1.9->lightautoml) (3.10.0.2)\n",
      "Requirement already satisfied: colorama in c:\\users\\cluster\\anaconda3\\lib\\site-packages (from tqdm->lightautoml) (0.4.4)\n",
      "Collecting graphviz\n",
      "  Downloading graphviz-0.19.1-py3-none-any.whl (46 kB)\n",
      "Collecting plotly\n",
      "  Downloading plotly-5.6.0-py2.py3-none-any.whl (27.7 MB)\n",
      "Collecting korean-lunar-calendar\n",
      "  Downloading korean_lunar_calendar-0.2.1-py3-none-any.whl (8.0 kB)\n",
      "Collecting convertdate>=2.3.0\n",
      "  Downloading convertdate-2.4.0-py3-none-any.whl (47 kB)\n",
      "Collecting hijri-converter\n",
      "  Downloading hijri_converter-2.2.3-py3-none-any.whl (14 kB)\n",
      "Collecting pymeeus<=1,>=0.3.13\n",
      "  Downloading PyMeeus-0.5.11.tar.gz (5.4 MB)\n",
      "Requirement already satisfied: MarkupSafe>=0.23 in c:\\users\\cluster\\anaconda3\\lib\\site-packages (from jinja2->lightautoml) (1.1.1)\n",
      "Requirement already satisfied: cycler>=0.10 in c:\\users\\cluster\\anaconda3\\lib\\site-packages (from matplotlib->autowoe>=1.2->lightautoml) (0.10.0)\n",
      "Requirement already satisfied: pyparsing>=2.2.1 in c:\\users\\cluster\\anaconda3\\lib\\site-packages (from matplotlib->autowoe>=1.2->lightautoml) (3.0.4)\n",
      "Requirement already satisfied: pillow>=6.2.0 in c:\\users\\cluster\\anaconda3\\lib\\site-packages (from matplotlib->autowoe>=1.2->lightautoml) (8.4.0)\n",
      "Requirement already satisfied: kiwisolver>=1.0.1 in c:\\users\\cluster\\anaconda3\\lib\\site-packages (from matplotlib->autowoe>=1.2->lightautoml) (1.3.1)\n",
      "Collecting cliff\n",
      "  Downloading cliff-3.10.1-py3-none-any.whl (81 kB)\n",
      "Collecting colorlog\n",
      "  Downloading colorlog-6.6.0-py2.py3-none-any.whl (11 kB)\n",
      "Requirement already satisfied: sqlalchemy>=1.1.0 in c:\\users\\cluster\\anaconda3\\lib\\site-packages (from optuna->lightautoml) (1.4.22)\n",
      "Requirement already satisfied: packaging>=20.0 in c:\\users\\cluster\\anaconda3\\lib\\site-packages (from optuna->lightautoml) (21.0)\n",
      "Collecting alembic\n",
      "  Downloading alembic-1.7.7-py3-none-any.whl (210 kB)\n",
      "Requirement already satisfied: greenlet!=0.4.17 in c:\\users\\cluster\\anaconda3\\lib\\site-packages (from sqlalchemy>=1.1.0->optuna->lightautoml) (1.1.1)\n",
      "Collecting Mako\n",
      "  Downloading Mako-1.2.0-py3-none-any.whl (78 kB)\n",
      "Collecting stevedore>=2.0.1\n",
      "  Downloading stevedore-3.5.0-py3-none-any.whl (49 kB)\n",
      "Collecting pbr!=2.1.0,>=2.0.0\n",
      "  Downloading pbr-5.8.1-py2.py3-none-any.whl (113 kB)\n",
      "Collecting PrettyTable>=0.7.2\n",
      "  Downloading prettytable-3.2.0-py3-none-any.whl (26 kB)\n",
      "Collecting autopage>=0.4.0\n",
      "  Downloading autopage-0.5.0-py3-none-any.whl (29 kB)\n",
      "Collecting cmd2>=1.0.0\n",
      "  Downloading cmd2-2.4.0-py3-none-any.whl (150 kB)\n",
      "Requirement already satisfied: attrs>=16.3.0 in c:\\users\\cluster\\anaconda3\\lib\\site-packages (from cmd2>=1.0.0->cliff->optuna->lightautoml) (21.2.0)\n",
      "Requirement already satisfied: wcwidth>=0.1.7 in c:\\users\\cluster\\anaconda3\\lib\\site-packages (from cmd2>=1.0.0->cliff->optuna->lightautoml) (0.2.5)\n",
      "Collecting pyperclip>=1.6\n",
      "  Downloading pyperclip-1.8.2.tar.gz (20 kB)\n",
      "Collecting pyreadline3\n",
      "  Downloading pyreadline3-3.4.1-py3-none-any.whl (95 kB)\n",
      "Collecting tenacity>=6.2.0\n",
      "  Downloading tenacity-8.0.1-py3-none-any.whl (24 kB)\n",
      "Requirement already satisfied: iniconfig in c:\\users\\cluster\\anaconda3\\lib\\site-packages (from pytest->autowoe>=1.2->lightautoml) (1.1.1)\n",
      "Requirement already satisfied: pluggy<1.0.0a1,>=0.12 in c:\\users\\cluster\\anaconda3\\lib\\site-packages (from pytest->autowoe>=1.2->lightautoml) (0.13.1)\n",
      "Requirement already satisfied: py>=1.8.2 in c:\\users\\cluster\\anaconda3\\lib\\site-packages (from pytest->autowoe>=1.2->lightautoml) (1.10.0)\n",
      "Requirement already satisfied: toml in c:\\users\\cluster\\anaconda3\\lib\\site-packages (from pytest->autowoe>=1.2->lightautoml) (0.10.2)\n",
      "Requirement already satisfied: atomicwrites>=1.0 in c:\\users\\cluster\\anaconda3\\lib\\site-packages (from pytest->autowoe>=1.2->lightautoml) (1.4.0)\n",
      "Requirement already satisfied: sphinxcontrib-applehelp in c:\\users\\cluster\\anaconda3\\lib\\site-packages (from sphinx->autowoe>=1.2->lightautoml) (1.0.2)\n",
      "Requirement already satisfied: sphinxcontrib-devhelp in c:\\users\\cluster\\anaconda3\\lib\\site-packages (from sphinx->autowoe>=1.2->lightautoml) (1.0.2)\n",
      "Requirement already satisfied: sphinxcontrib-jsmath in c:\\users\\cluster\\anaconda3\\lib\\site-packages (from sphinx->autowoe>=1.2->lightautoml) (1.0.1)\n",
      "Requirement already satisfied: sphinxcontrib-htmlhelp>=2.0.0 in c:\\users\\cluster\\anaconda3\\lib\\site-packages (from sphinx->autowoe>=1.2->lightautoml) (2.0.0)\n",
      "Requirement already satisfied: sphinxcontrib-serializinghtml>=1.1.5 in c:\\users\\cluster\\anaconda3\\lib\\site-packages (from sphinx->autowoe>=1.2->lightautoml) (1.1.5)\n",
      "Requirement already satisfied: sphinxcontrib-qthelp in c:\\users\\cluster\\anaconda3\\lib\\site-packages (from sphinx->autowoe>=1.2->lightautoml) (1.0.3)\n",
      "Requirement already satisfied: Pygments>=2.0 in c:\\users\\cluster\\anaconda3\\lib\\site-packages (from sphinx->autowoe>=1.2->lightautoml) (2.10.0)\n",
      "Requirement already satisfied: docutils<0.18,>=0.14 in c:\\users\\cluster\\anaconda3\\lib\\site-packages (from sphinx->autowoe>=1.2->lightautoml) (0.17.1)\n",
      "Requirement already satisfied: snowballstemmer>=1.1 in c:\\users\\cluster\\anaconda3\\lib\\site-packages (from sphinx->autowoe>=1.2->lightautoml) (2.1.0)\n",
      "Requirement already satisfied: babel>=1.3 in c:\\users\\cluster\\anaconda3\\lib\\site-packages (from sphinx->autowoe>=1.2->lightautoml) (2.9.1)\n",
      "Requirement already satisfied: alabaster<0.8,>=0.7 in c:\\users\\cluster\\anaconda3\\lib\\site-packages (from sphinx->autowoe>=1.2->lightautoml) (0.7.12)\n",
      "Requirement already satisfied: imagesize in c:\\users\\cluster\\anaconda3\\lib\\site-packages (from sphinx->autowoe>=1.2->lightautoml) (1.2.0)\n",
      "Requirement already satisfied: requests>=2.5.0 in c:\\users\\cluster\\anaconda3\\lib\\site-packages (from sphinx->autowoe>=1.2->lightautoml) (2.26.0)\n",
      "Requirement already satisfied: setuptools in c:\\users\\cluster\\anaconda3\\lib\\site-packages (from sphinx->autowoe>=1.2->lightautoml) (58.0.4)\n",
      "Requirement already satisfied: certifi>=2017.4.17 in c:\\users\\cluster\\anaconda3\\lib\\site-packages (from requests>=2.5.0->sphinx->autowoe>=1.2->lightautoml) (2021.10.8)\n",
      "Requirement already satisfied: idna<4,>=2.5 in c:\\users\\cluster\\anaconda3\\lib\\site-packages (from requests>=2.5.0->sphinx->autowoe>=1.2->lightautoml) (3.2)\n",
      "Requirement already satisfied: urllib3<1.27,>=1.21.1 in c:\\users\\cluster\\anaconda3\\lib\\site-packages (from requests>=2.5.0->sphinx->autowoe>=1.2->lightautoml) (1.26.7)\n",
      "Requirement already satisfied: charset-normalizer~=2.0.0 in c:\\users\\cluster\\anaconda3\\lib\\site-packages (from requests>=2.5.0->sphinx->autowoe>=1.2->lightautoml) (2.0.4)\n",
      "Collecting torchvision\n",
      "  Downloading torchvision-0.11.3-cp39-cp39-win_amd64.whl (947 kB)\n",
      "  Downloading torchvision-0.11.2-cp39-cp39-win_amd64.whl (985 kB)\n",
      "  Downloading torchvision-0.11.1-cp39-cp39-win_amd64.whl (984 kB)\n",
      "  Downloading torchvision-0.10.1-cp39-cp39-win_amd64.whl (936 kB)\n",
      "  Downloading torchvision-0.10.0-cp39-cp39-win_amd64.whl (920 kB)\n",
      "  Downloading torchvision-0.9.1-cp39-cp39-win_amd64.whl (852 kB)\n",
      "Building wheels for collected packages: pymeeus, json2html, pyperclip\n",
      "  Building wheel for pymeeus (setup.py): started\n",
      "  Building wheel for pymeeus (setup.py): finished with status 'done'\n",
      "  Created wheel for pymeeus: filename=PyMeeus-0.5.11-py3-none-any.whl size=730984 sha256=090ec10acc5266f872e3ec9b16bfcecacbdda87e192d3f1080cffc6e14f1d541\n",
      "  Stored in directory: c:\\users\\cluster\\appdata\\local\\pip\\cache\\wheels\\33\\3d\\82\\4579e9cca41ff991140b2e050bc6df3a38292f26e4fa06b15d\n",
      "  Building wheel for json2html (setup.py): started\n",
      "  Building wheel for json2html (setup.py): finished with status 'done'\n",
      "  Created wheel for json2html: filename=json2html-1.3.0-py3-none-any.whl size=7609 sha256=f990a27047ac6899a62764697b02e212f5f5ac112224531264c8d7a95a536d63\n",
      "  Stored in directory: c:\\users\\cluster\\appdata\\local\\pip\\cache\\wheels\\b9\\56\\a2\\f610a5e8a635d74d27c9971d6099b2521d2155169ff2d99b89\n",
      "  Building wheel for pyperclip (setup.py): started\n",
      "  Building wheel for pyperclip (setup.py): finished with status 'done'\n",
      "  Created wheel for pyperclip: filename=pyperclip-1.8.2-py3-none-any.whl size=11136 sha256=445fa538ba8db56c906f7f859762ebfcef06cf960ce5d79997c422ffbbcd59e2\n",
      "  Stored in directory: c:\\users\\cluster\\appdata\\local\\pip\\cache\\wheels\\0c\\09\\9e\\49e21a6840ef7955b06d47394afef0058f0378c0914e48b8b8\n",
      "Successfully built pymeeus json2html pyperclip\n",
      "Installing collected packages: pyreadline3, pyperclip, pbr, tenacity, stevedore, pymeeus, PrettyTable, Mako, cmd2, autopage, torch, StrEnum, sphinx-rtd-theme, plotly, lightgbm, korean-lunar-calendar, hijri-converter, graphviz, convertdate, colorlog, cmaes, cliff, alembic, torchvision, poetry-core, optuna, json2html, holidays, dataclasses, catboost, autowoe, lightautoml\n",
      "Successfully installed Mako-1.2.0 PrettyTable-3.2.0 StrEnum-0.4.7 alembic-1.7.7 autopage-0.5.0 autowoe-1.3.1 catboost-1.0.4 cliff-3.10.1 cmaes-0.8.2 cmd2-2.4.0 colorlog-6.6.0 convertdate-2.4.0 dataclasses-0.6 graphviz-0.19.1 hijri-converter-2.2.3 holidays-0.13 json2html-1.3.0 korean-lunar-calendar-0.2.1 lightautoml-0.3.3 lightgbm-2.3.1 optuna-2.10.0 pbr-5.8.1 plotly-5.6.0 poetry-core-1.0.8 pymeeus-0.5.11 pyperclip-1.8.2 pyreadline3-3.4.1 sphinx-rtd-theme-1.0.0 stevedore-3.5.0 tenacity-8.0.1 torch-1.8.1 torchvision-0.9.1\n"
     ]
    }
   ],
   "source": [
    "!pip install lightautoml"
   ]
  },
  {
   "cell_type": "code",
   "execution_count": 566,
   "id": "f1a2d4f2",
   "metadata": {},
   "outputs": [],
   "source": [
    "from lightautoml.automl.presets.tabular_presets import TabularAutoML, TabularUtilizedAutoML\n",
    "from lightautoml.tasks import Task\n",
    "from lightautoml.tasks.common_metric import mean_quantile_error, rmsle, r2_score"
   ]
  },
  {
   "cell_type": "code",
   "execution_count": 585,
   "id": "778c7418",
   "metadata": {},
   "outputs": [],
   "source": [
    "TASK = Task('reg', loss='mse', metric=rmsle, greater_is_better=False)\n",
    "TIMEOUT = 300000\n",
    "N_THREADS = 4\n",
    "N_FOLDS = 5\n",
    "RANDOM_STATE = 42\n",
    "TARGET_NAME = 'Price'\n",
    "TEST_SIZE=0.2"
   ]
  },
  {
   "cell_type": "code",
   "execution_count": 586,
   "id": "de412a54",
   "metadata": {},
   "outputs": [],
   "source": [
    "roles = {'target': TARGET_NAME, 'drop': ['Id']}"
   ]
  },
  {
   "cell_type": "code",
   "execution_count": 587,
   "id": "ca7263b7",
   "metadata": {},
   "outputs": [],
   "source": [
    "automl_model = TabularAutoML(task=TASK,\n",
    "                            timeout=TIMEOUT,\n",
    "                            cpu_limit = N_THREADS,\n",
    "                            gpu_ids='all',\n",
    "                            reader_params = {'n_jobs': N_THREADS, 'cv': N_FOLDS, 'random_state': RANDOM_STATE},\n",
    "                            general_params={'use_algos': [ ['lgb_tuned', 'cb_tuned', 'cb'], ['lgb_tuned', 'cb'] ]},\n",
    "                            tuning_params={'max_tuning_iter': 10},\n",
    "                      )"
   ]
  },
  {
   "cell_type": "code",
   "execution_count": 570,
   "id": "7824172f",
   "metadata": {},
   "outputs": [],
   "source": [
    "features_gen = FeatureGenetator()\n",
    "features_gen.fit(train_df, train_df[target_names])\n",
    "\n",
    "X_train = features_gen.transform(train_df)\n",
    "test_df = features_gen.transform(test_df)"
   ]
  },
  {
   "cell_type": "code",
   "execution_count": 588,
   "id": "2ed355ae",
   "metadata": {},
   "outputs": [],
   "source": [
    "oof_pred = automl_model.fit_predict(train_df, roles = roles)"
   ]
  },
  {
   "cell_type": "code",
   "execution_count": 589,
   "id": "dc88d1b4",
   "metadata": {},
   "outputs": [],
   "source": [
    "test_df['Price'] = automl_model.predict(test_df).data"
   ]
  },
  {
   "cell_type": "code",
   "execution_count": 573,
   "id": "3f7335b3",
   "metadata": {},
   "outputs": [
    {
     "data": {
      "text/html": [
       "<div>\n",
       "<style scoped>\n",
       "    .dataframe tbody tr th:only-of-type {\n",
       "        vertical-align: middle;\n",
       "    }\n",
       "\n",
       "    .dataframe tbody tr th {\n",
       "        vertical-align: top;\n",
       "    }\n",
       "\n",
       "    .dataframe thead th {\n",
       "        text-align: right;\n",
       "    }\n",
       "</style>\n",
       "<table border=\"1\" class=\"dataframe\">\n",
       "  <thead>\n",
       "    <tr style=\"text-align: right;\">\n",
       "      <th></th>\n",
       "      <th>Id</th>\n",
       "      <th>DistrictId</th>\n",
       "      <th>Rooms</th>\n",
       "      <th>Square</th>\n",
       "      <th>LifeSquare</th>\n",
       "      <th>KitchenSquare</th>\n",
       "      <th>Floor</th>\n",
       "      <th>HouseFloor</th>\n",
       "      <th>HouseYear</th>\n",
       "      <th>Ecology_1</th>\n",
       "      <th>...</th>\n",
       "      <th>Helthcare_2</th>\n",
       "      <th>Shops_1</th>\n",
       "      <th>Shops_2</th>\n",
       "      <th>DistrictSize</th>\n",
       "      <th>IsDistrictLarge</th>\n",
       "      <th>floor_cat</th>\n",
       "      <th>year_cat</th>\n",
       "      <th>MedPriceByDistrict</th>\n",
       "      <th>MedPriceByFloorYear</th>\n",
       "      <th>Price</th>\n",
       "    </tr>\n",
       "  </thead>\n",
       "  <tbody>\n",
       "    <tr>\n",
       "      <th>0</th>\n",
       "      <td>4567</td>\n",
       "      <td>44</td>\n",
       "      <td>1.0</td>\n",
       "      <td>36.847630</td>\n",
       "      <td>19.094182</td>\n",
       "      <td>5.0</td>\n",
       "      <td>5.0</td>\n",
       "      <td>9.0</td>\n",
       "      <td>1970</td>\n",
       "      <td>0.036122</td>\n",
       "      <td>...</td>\n",
       "      <td>1</td>\n",
       "      <td>1</td>\n",
       "      <td>1</td>\n",
       "      <td>46</td>\n",
       "      <td>0</td>\n",
       "      <td>1.0</td>\n",
       "      <td>2.0</td>\n",
       "      <td>171145.169069</td>\n",
       "      <td>186453.111605</td>\n",
       "      <td>164199.46875</td>\n",
       "    </tr>\n",
       "    <tr>\n",
       "      <th>1</th>\n",
       "      <td>5925</td>\n",
       "      <td>62</td>\n",
       "      <td>1.0</td>\n",
       "      <td>42.493907</td>\n",
       "      <td>27.493907</td>\n",
       "      <td>10.0</td>\n",
       "      <td>7.0</td>\n",
       "      <td>17.0</td>\n",
       "      <td>2017</td>\n",
       "      <td>0.072158</td>\n",
       "      <td>...</td>\n",
       "      <td>0</td>\n",
       "      <td>0</td>\n",
       "      <td>0</td>\n",
       "      <td>122</td>\n",
       "      <td>1</td>\n",
       "      <td>2.0</td>\n",
       "      <td>5.0</td>\n",
       "      <td>129107.218932</td>\n",
       "      <td>172652.431537</td>\n",
       "      <td>133870.84375</td>\n",
       "    </tr>\n",
       "    <tr>\n",
       "      <th>2</th>\n",
       "      <td>960</td>\n",
       "      <td>27</td>\n",
       "      <td>2.0</td>\n",
       "      <td>59.463678</td>\n",
       "      <td>45.463678</td>\n",
       "      <td>9.0</td>\n",
       "      <td>19.0</td>\n",
       "      <td>19.0</td>\n",
       "      <td>1977</td>\n",
       "      <td>0.211401</td>\n",
       "      <td>...</td>\n",
       "      <td>0</td>\n",
       "      <td>1</td>\n",
       "      <td>1</td>\n",
       "      <td>391</td>\n",
       "      <td>1</td>\n",
       "      <td>4.0</td>\n",
       "      <td>2.0</td>\n",
       "      <td>165700.355193</td>\n",
       "      <td>175503.767602</td>\n",
       "      <td>155022.78125</td>\n",
       "    </tr>\n",
       "    <tr>\n",
       "      <th>3</th>\n",
       "      <td>3848</td>\n",
       "      <td>23</td>\n",
       "      <td>3.0</td>\n",
       "      <td>49.646030</td>\n",
       "      <td>33.893825</td>\n",
       "      <td>6.0</td>\n",
       "      <td>2.0</td>\n",
       "      <td>2.0</td>\n",
       "      <td>1965</td>\n",
       "      <td>0.014073</td>\n",
       "      <td>...</td>\n",
       "      <td>0</td>\n",
       "      <td>0</td>\n",
       "      <td>1</td>\n",
       "      <td>264</td>\n",
       "      <td>1</td>\n",
       "      <td>0.0</td>\n",
       "      <td>2.0</td>\n",
       "      <td>166687.735824</td>\n",
       "      <td>179646.198587</td>\n",
       "      <td>137355.81250</td>\n",
       "    </tr>\n",
       "    <tr>\n",
       "      <th>4</th>\n",
       "      <td>746</td>\n",
       "      <td>74</td>\n",
       "      <td>1.0</td>\n",
       "      <td>53.837056</td>\n",
       "      <td>42.837056</td>\n",
       "      <td>6.0</td>\n",
       "      <td>8.0</td>\n",
       "      <td>17.0</td>\n",
       "      <td>1977</td>\n",
       "      <td>0.309479</td>\n",
       "      <td>...</td>\n",
       "      <td>0</td>\n",
       "      <td>6</td>\n",
       "      <td>1</td>\n",
       "      <td>61</td>\n",
       "      <td>0</td>\n",
       "      <td>2.0</td>\n",
       "      <td>2.0</td>\n",
       "      <td>165071.825722</td>\n",
       "      <td>192213.977261</td>\n",
       "      <td>186923.09375</td>\n",
       "    </tr>\n",
       "  </tbody>\n",
       "</table>\n",
       "<p>5 rows × 26 columns</p>\n",
       "</div>"
      ],
      "text/plain": [
       "     Id DistrictId  Rooms     Square  LifeSquare  KitchenSquare  Floor  \\\n",
       "0  4567         44    1.0  36.847630   19.094182            5.0    5.0   \n",
       "1  5925         62    1.0  42.493907   27.493907           10.0    7.0   \n",
       "2   960         27    2.0  59.463678   45.463678            9.0   19.0   \n",
       "3  3848         23    3.0  49.646030   33.893825            6.0    2.0   \n",
       "4   746         74    1.0  53.837056   42.837056            6.0    8.0   \n",
       "\n",
       "   HouseFloor  HouseYear  Ecology_1  ...  Helthcare_2  Shops_1  Shops_2  \\\n",
       "0         9.0       1970   0.036122  ...            1        1        1   \n",
       "1        17.0       2017   0.072158  ...            0        0        0   \n",
       "2        19.0       1977   0.211401  ...            0        1        1   \n",
       "3         2.0       1965   0.014073  ...            0        0        1   \n",
       "4        17.0       1977   0.309479  ...            0        6        1   \n",
       "\n",
       "   DistrictSize  IsDistrictLarge  floor_cat  year_cat  MedPriceByDistrict  \\\n",
       "0            46                0        1.0       2.0       171145.169069   \n",
       "1           122                1        2.0       5.0       129107.218932   \n",
       "2           391                1        4.0       2.0       165700.355193   \n",
       "3           264                1        0.0       2.0       166687.735824   \n",
       "4            61                0        2.0       2.0       165071.825722   \n",
       "\n",
       "   MedPriceByFloorYear         Price  \n",
       "0        186453.111605  164199.46875  \n",
       "1        172652.431537  133870.84375  \n",
       "2        175503.767602  155022.78125  \n",
       "3        179646.198587  137355.81250  \n",
       "4        192213.977261  186923.09375  \n",
       "\n",
       "[5 rows x 26 columns]"
      ]
     },
     "execution_count": 573,
     "metadata": {},
     "output_type": "execute_result"
    }
   ],
   "source": [
    "test_df.head()"
   ]
  },
  {
   "cell_type": "code",
   "execution_count": 590,
   "id": "02808deb",
   "metadata": {},
   "outputs": [],
   "source": [
    "test_df.to_csv('submission_LAMA_01.csv', columns=['Id', 'Price'], index=False)"
   ]
  }
 ],
 "metadata": {
  "kernelspec": {
   "display_name": "Python 3 (ipykernel)",
   "language": "python",
   "name": "python3"
  },
  "language_info": {
   "codemirror_mode": {
    "name": "ipython",
    "version": 3
   },
   "file_extension": ".py",
   "mimetype": "text/x-python",
   "name": "python",
   "nbconvert_exporter": "python",
   "pygments_lexer": "ipython3",
   "version": "3.9.7"
  }
 },
 "nbformat": 4,
 "nbformat_minor": 5
}
